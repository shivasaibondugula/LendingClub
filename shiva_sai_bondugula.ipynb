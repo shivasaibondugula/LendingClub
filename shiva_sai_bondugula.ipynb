{
 "cells": [
  {
   "cell_type": "markdown",
   "id": "844ba320",
   "metadata": {},
   "source": [
    "<h1 style=\"color:blue;\">Problem statement</h1>\n",
    "\n",
    "Using Exploratory Data Analysis (EDA) for basic understanding the risk analytics in banking and financial services and understand how data is used to minimise the risk of losing money while lending to customers."
   ]
  },
  {
   "cell_type": "markdown",
   "id": "fe339839",
   "metadata": {},
   "source": [
    "1. ## Data sourcing"
   ]
  },
  {
   "cell_type": "code",
   "execution_count": 1,
   "id": "f0f28fae",
   "metadata": {},
   "outputs": [],
   "source": [
    "import numpy as np\n",
    "import pandas as pd\n",
    "import matplotlib.pyplot as plt"
   ]
  },
  {
   "cell_type": "code",
   "execution_count": 2,
   "id": "535baccb",
   "metadata": {},
   "outputs": [
    {
     "name": "stderr",
     "output_type": "stream",
     "text": [
      "C:\\Users\\sbondugula\\AppData\\Local\\Temp\\ipykernel_50432\\296403435.py:1: DtypeWarning: Columns (47) have mixed types. Specify dtype option on import or set low_memory=False.\n",
      "  loan_data = pd.read_csv(\"loan/loan.csv\")\n"
     ]
    },
    {
     "data": {
      "text/html": [
       "<div>\n",
       "<style scoped>\n",
       "    .dataframe tbody tr th:only-of-type {\n",
       "        vertical-align: middle;\n",
       "    }\n",
       "\n",
       "    .dataframe tbody tr th {\n",
       "        vertical-align: top;\n",
       "    }\n",
       "\n",
       "    .dataframe thead th {\n",
       "        text-align: right;\n",
       "    }\n",
       "</style>\n",
       "<table border=\"1\" class=\"dataframe\">\n",
       "  <thead>\n",
       "    <tr style=\"text-align: right;\">\n",
       "      <th></th>\n",
       "      <th>id</th>\n",
       "      <th>member_id</th>\n",
       "      <th>loan_amnt</th>\n",
       "      <th>funded_amnt</th>\n",
       "      <th>funded_amnt_inv</th>\n",
       "      <th>term</th>\n",
       "      <th>int_rate</th>\n",
       "      <th>installment</th>\n",
       "      <th>grade</th>\n",
       "      <th>sub_grade</th>\n",
       "      <th>...</th>\n",
       "      <th>num_tl_90g_dpd_24m</th>\n",
       "      <th>num_tl_op_past_12m</th>\n",
       "      <th>pct_tl_nvr_dlq</th>\n",
       "      <th>percent_bc_gt_75</th>\n",
       "      <th>pub_rec_bankruptcies</th>\n",
       "      <th>tax_liens</th>\n",
       "      <th>tot_hi_cred_lim</th>\n",
       "      <th>total_bal_ex_mort</th>\n",
       "      <th>total_bc_limit</th>\n",
       "      <th>total_il_high_credit_limit</th>\n",
       "    </tr>\n",
       "  </thead>\n",
       "  <tbody>\n",
       "    <tr>\n",
       "      <th>0</th>\n",
       "      <td>1077501</td>\n",
       "      <td>1296599</td>\n",
       "      <td>5000</td>\n",
       "      <td>5000</td>\n",
       "      <td>4975.0</td>\n",
       "      <td>36 months</td>\n",
       "      <td>10.65%</td>\n",
       "      <td>162.87</td>\n",
       "      <td>B</td>\n",
       "      <td>B2</td>\n",
       "      <td>...</td>\n",
       "      <td>NaN</td>\n",
       "      <td>NaN</td>\n",
       "      <td>NaN</td>\n",
       "      <td>NaN</td>\n",
       "      <td>0.0</td>\n",
       "      <td>0.0</td>\n",
       "      <td>NaN</td>\n",
       "      <td>NaN</td>\n",
       "      <td>NaN</td>\n",
       "      <td>NaN</td>\n",
       "    </tr>\n",
       "    <tr>\n",
       "      <th>1</th>\n",
       "      <td>1077430</td>\n",
       "      <td>1314167</td>\n",
       "      <td>2500</td>\n",
       "      <td>2500</td>\n",
       "      <td>2500.0</td>\n",
       "      <td>60 months</td>\n",
       "      <td>15.27%</td>\n",
       "      <td>59.83</td>\n",
       "      <td>C</td>\n",
       "      <td>C4</td>\n",
       "      <td>...</td>\n",
       "      <td>NaN</td>\n",
       "      <td>NaN</td>\n",
       "      <td>NaN</td>\n",
       "      <td>NaN</td>\n",
       "      <td>0.0</td>\n",
       "      <td>0.0</td>\n",
       "      <td>NaN</td>\n",
       "      <td>NaN</td>\n",
       "      <td>NaN</td>\n",
       "      <td>NaN</td>\n",
       "    </tr>\n",
       "    <tr>\n",
       "      <th>2</th>\n",
       "      <td>1077175</td>\n",
       "      <td>1313524</td>\n",
       "      <td>2400</td>\n",
       "      <td>2400</td>\n",
       "      <td>2400.0</td>\n",
       "      <td>36 months</td>\n",
       "      <td>15.96%</td>\n",
       "      <td>84.33</td>\n",
       "      <td>C</td>\n",
       "      <td>C5</td>\n",
       "      <td>...</td>\n",
       "      <td>NaN</td>\n",
       "      <td>NaN</td>\n",
       "      <td>NaN</td>\n",
       "      <td>NaN</td>\n",
       "      <td>0.0</td>\n",
       "      <td>0.0</td>\n",
       "      <td>NaN</td>\n",
       "      <td>NaN</td>\n",
       "      <td>NaN</td>\n",
       "      <td>NaN</td>\n",
       "    </tr>\n",
       "    <tr>\n",
       "      <th>3</th>\n",
       "      <td>1076863</td>\n",
       "      <td>1277178</td>\n",
       "      <td>10000</td>\n",
       "      <td>10000</td>\n",
       "      <td>10000.0</td>\n",
       "      <td>36 months</td>\n",
       "      <td>13.49%</td>\n",
       "      <td>339.31</td>\n",
       "      <td>C</td>\n",
       "      <td>C1</td>\n",
       "      <td>...</td>\n",
       "      <td>NaN</td>\n",
       "      <td>NaN</td>\n",
       "      <td>NaN</td>\n",
       "      <td>NaN</td>\n",
       "      <td>0.0</td>\n",
       "      <td>0.0</td>\n",
       "      <td>NaN</td>\n",
       "      <td>NaN</td>\n",
       "      <td>NaN</td>\n",
       "      <td>NaN</td>\n",
       "    </tr>\n",
       "    <tr>\n",
       "      <th>4</th>\n",
       "      <td>1075358</td>\n",
       "      <td>1311748</td>\n",
       "      <td>3000</td>\n",
       "      <td>3000</td>\n",
       "      <td>3000.0</td>\n",
       "      <td>60 months</td>\n",
       "      <td>12.69%</td>\n",
       "      <td>67.79</td>\n",
       "      <td>B</td>\n",
       "      <td>B5</td>\n",
       "      <td>...</td>\n",
       "      <td>NaN</td>\n",
       "      <td>NaN</td>\n",
       "      <td>NaN</td>\n",
       "      <td>NaN</td>\n",
       "      <td>0.0</td>\n",
       "      <td>0.0</td>\n",
       "      <td>NaN</td>\n",
       "      <td>NaN</td>\n",
       "      <td>NaN</td>\n",
       "      <td>NaN</td>\n",
       "    </tr>\n",
       "  </tbody>\n",
       "</table>\n",
       "<p>5 rows × 111 columns</p>\n",
       "</div>"
      ],
      "text/plain": [
       "        id  member_id  loan_amnt  funded_amnt  funded_amnt_inv        term  \\\n",
       "0  1077501    1296599       5000         5000           4975.0   36 months   \n",
       "1  1077430    1314167       2500         2500           2500.0   60 months   \n",
       "2  1077175    1313524       2400         2400           2400.0   36 months   \n",
       "3  1076863    1277178      10000        10000          10000.0   36 months   \n",
       "4  1075358    1311748       3000         3000           3000.0   60 months   \n",
       "\n",
       "  int_rate  installment grade sub_grade  ... num_tl_90g_dpd_24m  \\\n",
       "0   10.65%       162.87     B        B2  ...                NaN   \n",
       "1   15.27%        59.83     C        C4  ...                NaN   \n",
       "2   15.96%        84.33     C        C5  ...                NaN   \n",
       "3   13.49%       339.31     C        C1  ...                NaN   \n",
       "4   12.69%        67.79     B        B5  ...                NaN   \n",
       "\n",
       "  num_tl_op_past_12m pct_tl_nvr_dlq  percent_bc_gt_75 pub_rec_bankruptcies  \\\n",
       "0                NaN            NaN               NaN                  0.0   \n",
       "1                NaN            NaN               NaN                  0.0   \n",
       "2                NaN            NaN               NaN                  0.0   \n",
       "3                NaN            NaN               NaN                  0.0   \n",
       "4                NaN            NaN               NaN                  0.0   \n",
       "\n",
       "  tax_liens tot_hi_cred_lim total_bal_ex_mort total_bc_limit  \\\n",
       "0       0.0             NaN               NaN            NaN   \n",
       "1       0.0             NaN               NaN            NaN   \n",
       "2       0.0             NaN               NaN            NaN   \n",
       "3       0.0             NaN               NaN            NaN   \n",
       "4       0.0             NaN               NaN            NaN   \n",
       "\n",
       "  total_il_high_credit_limit  \n",
       "0                        NaN  \n",
       "1                        NaN  \n",
       "2                        NaN  \n",
       "3                        NaN  \n",
       "4                        NaN  \n",
       "\n",
       "[5 rows x 111 columns]"
      ]
     },
     "execution_count": 2,
     "metadata": {},
     "output_type": "execute_result"
    }
   ],
   "source": [
    "loan_data = pd.read_csv(\"loan/loan.csv\")\n",
    "loan_data.head()"
   ]
  },
  {
   "cell_type": "code",
   "execution_count": 3,
   "id": "5b7ed196",
   "metadata": {},
   "outputs": [
    {
     "data": {
      "text/html": [
       "<div>\n",
       "<style scoped>\n",
       "    .dataframe tbody tr th:only-of-type {\n",
       "        vertical-align: middle;\n",
       "    }\n",
       "\n",
       "    .dataframe tbody tr th {\n",
       "        vertical-align: top;\n",
       "    }\n",
       "\n",
       "    .dataframe thead th {\n",
       "        text-align: right;\n",
       "    }\n",
       "</style>\n",
       "<table border=\"1\" class=\"dataframe\">\n",
       "  <thead>\n",
       "    <tr style=\"text-align: right;\">\n",
       "      <th></th>\n",
       "      <th>id</th>\n",
       "      <th>member_id</th>\n",
       "      <th>loan_amnt</th>\n",
       "      <th>funded_amnt</th>\n",
       "      <th>funded_amnt_inv</th>\n",
       "      <th>term</th>\n",
       "      <th>int_rate</th>\n",
       "      <th>installment</th>\n",
       "      <th>grade</th>\n",
       "      <th>sub_grade</th>\n",
       "      <th>...</th>\n",
       "      <th>num_tl_90g_dpd_24m</th>\n",
       "      <th>num_tl_op_past_12m</th>\n",
       "      <th>pct_tl_nvr_dlq</th>\n",
       "      <th>percent_bc_gt_75</th>\n",
       "      <th>pub_rec_bankruptcies</th>\n",
       "      <th>tax_liens</th>\n",
       "      <th>tot_hi_cred_lim</th>\n",
       "      <th>total_bal_ex_mort</th>\n",
       "      <th>total_bc_limit</th>\n",
       "      <th>total_il_high_credit_limit</th>\n",
       "    </tr>\n",
       "  </thead>\n",
       "  <tbody>\n",
       "    <tr>\n",
       "      <th>39712</th>\n",
       "      <td>92187</td>\n",
       "      <td>92174</td>\n",
       "      <td>2500</td>\n",
       "      <td>2500</td>\n",
       "      <td>1075.0</td>\n",
       "      <td>36 months</td>\n",
       "      <td>8.07%</td>\n",
       "      <td>78.42</td>\n",
       "      <td>A</td>\n",
       "      <td>A4</td>\n",
       "      <td>...</td>\n",
       "      <td>NaN</td>\n",
       "      <td>NaN</td>\n",
       "      <td>NaN</td>\n",
       "      <td>NaN</td>\n",
       "      <td>NaN</td>\n",
       "      <td>NaN</td>\n",
       "      <td>NaN</td>\n",
       "      <td>NaN</td>\n",
       "      <td>NaN</td>\n",
       "      <td>NaN</td>\n",
       "    </tr>\n",
       "    <tr>\n",
       "      <th>39713</th>\n",
       "      <td>90665</td>\n",
       "      <td>90607</td>\n",
       "      <td>8500</td>\n",
       "      <td>8500</td>\n",
       "      <td>875.0</td>\n",
       "      <td>36 months</td>\n",
       "      <td>10.28%</td>\n",
       "      <td>275.38</td>\n",
       "      <td>C</td>\n",
       "      <td>C1</td>\n",
       "      <td>...</td>\n",
       "      <td>NaN</td>\n",
       "      <td>NaN</td>\n",
       "      <td>NaN</td>\n",
       "      <td>NaN</td>\n",
       "      <td>NaN</td>\n",
       "      <td>NaN</td>\n",
       "      <td>NaN</td>\n",
       "      <td>NaN</td>\n",
       "      <td>NaN</td>\n",
       "      <td>NaN</td>\n",
       "    </tr>\n",
       "    <tr>\n",
       "      <th>39714</th>\n",
       "      <td>90395</td>\n",
       "      <td>90390</td>\n",
       "      <td>5000</td>\n",
       "      <td>5000</td>\n",
       "      <td>1325.0</td>\n",
       "      <td>36 months</td>\n",
       "      <td>8.07%</td>\n",
       "      <td>156.84</td>\n",
       "      <td>A</td>\n",
       "      <td>A4</td>\n",
       "      <td>...</td>\n",
       "      <td>NaN</td>\n",
       "      <td>NaN</td>\n",
       "      <td>NaN</td>\n",
       "      <td>NaN</td>\n",
       "      <td>NaN</td>\n",
       "      <td>NaN</td>\n",
       "      <td>NaN</td>\n",
       "      <td>NaN</td>\n",
       "      <td>NaN</td>\n",
       "      <td>NaN</td>\n",
       "    </tr>\n",
       "    <tr>\n",
       "      <th>39715</th>\n",
       "      <td>90376</td>\n",
       "      <td>89243</td>\n",
       "      <td>5000</td>\n",
       "      <td>5000</td>\n",
       "      <td>650.0</td>\n",
       "      <td>36 months</td>\n",
       "      <td>7.43%</td>\n",
       "      <td>155.38</td>\n",
       "      <td>A</td>\n",
       "      <td>A2</td>\n",
       "      <td>...</td>\n",
       "      <td>NaN</td>\n",
       "      <td>NaN</td>\n",
       "      <td>NaN</td>\n",
       "      <td>NaN</td>\n",
       "      <td>NaN</td>\n",
       "      <td>NaN</td>\n",
       "      <td>NaN</td>\n",
       "      <td>NaN</td>\n",
       "      <td>NaN</td>\n",
       "      <td>NaN</td>\n",
       "    </tr>\n",
       "    <tr>\n",
       "      <th>39716</th>\n",
       "      <td>87023</td>\n",
       "      <td>86999</td>\n",
       "      <td>7500</td>\n",
       "      <td>7500</td>\n",
       "      <td>800.0</td>\n",
       "      <td>36 months</td>\n",
       "      <td>13.75%</td>\n",
       "      <td>255.43</td>\n",
       "      <td>E</td>\n",
       "      <td>E2</td>\n",
       "      <td>...</td>\n",
       "      <td>NaN</td>\n",
       "      <td>NaN</td>\n",
       "      <td>NaN</td>\n",
       "      <td>NaN</td>\n",
       "      <td>NaN</td>\n",
       "      <td>NaN</td>\n",
       "      <td>NaN</td>\n",
       "      <td>NaN</td>\n",
       "      <td>NaN</td>\n",
       "      <td>NaN</td>\n",
       "    </tr>\n",
       "  </tbody>\n",
       "</table>\n",
       "<p>5 rows × 111 columns</p>\n",
       "</div>"
      ],
      "text/plain": [
       "          id  member_id  loan_amnt  funded_amnt  funded_amnt_inv        term  \\\n",
       "39712  92187      92174       2500         2500           1075.0   36 months   \n",
       "39713  90665      90607       8500         8500            875.0   36 months   \n",
       "39714  90395      90390       5000         5000           1325.0   36 months   \n",
       "39715  90376      89243       5000         5000            650.0   36 months   \n",
       "39716  87023      86999       7500         7500            800.0   36 months   \n",
       "\n",
       "      int_rate  installment grade sub_grade  ... num_tl_90g_dpd_24m  \\\n",
       "39712    8.07%        78.42     A        A4  ...                NaN   \n",
       "39713   10.28%       275.38     C        C1  ...                NaN   \n",
       "39714    8.07%       156.84     A        A4  ...                NaN   \n",
       "39715    7.43%       155.38     A        A2  ...                NaN   \n",
       "39716   13.75%       255.43     E        E2  ...                NaN   \n",
       "\n",
       "      num_tl_op_past_12m pct_tl_nvr_dlq  percent_bc_gt_75  \\\n",
       "39712                NaN            NaN               NaN   \n",
       "39713                NaN            NaN               NaN   \n",
       "39714                NaN            NaN               NaN   \n",
       "39715                NaN            NaN               NaN   \n",
       "39716                NaN            NaN               NaN   \n",
       "\n",
       "      pub_rec_bankruptcies tax_liens tot_hi_cred_lim total_bal_ex_mort  \\\n",
       "39712                  NaN       NaN             NaN               NaN   \n",
       "39713                  NaN       NaN             NaN               NaN   \n",
       "39714                  NaN       NaN             NaN               NaN   \n",
       "39715                  NaN       NaN             NaN               NaN   \n",
       "39716                  NaN       NaN             NaN               NaN   \n",
       "\n",
       "      total_bc_limit total_il_high_credit_limit  \n",
       "39712            NaN                        NaN  \n",
       "39713            NaN                        NaN  \n",
       "39714            NaN                        NaN  \n",
       "39715            NaN                        NaN  \n",
       "39716            NaN                        NaN  \n",
       "\n",
       "[5 rows x 111 columns]"
      ]
     },
     "execution_count": 3,
     "metadata": {},
     "output_type": "execute_result"
    }
   ],
   "source": [
    "loan_data.tail()"
   ]
  },
  {
   "cell_type": "code",
   "execution_count": 4,
   "id": "1da04ce5",
   "metadata": {},
   "outputs": [
    {
     "data": {
      "text/plain": [
       "(39717, 111)"
      ]
     },
     "execution_count": 4,
     "metadata": {},
     "output_type": "execute_result"
    }
   ],
   "source": [
    "loan_data.shape"
   ]
  },
  {
   "cell_type": "markdown",
   "id": "846612b0",
   "metadata": {},
   "source": [
    "2. ## Data cleaning"
   ]
  },
  {
   "cell_type": "markdown",
   "id": "e3e96916",
   "metadata": {},
   "source": [
    "### Fix missing values"
   ]
  },
  {
   "cell_type": "code",
   "execution_count": 5,
   "id": "a3bfb6fb",
   "metadata": {},
   "outputs": [
    {
     "data": {
      "text/plain": [
       "emp_title                      2459\n",
       "emp_length                     1075\n",
       "desc                          12940\n",
       "title                            11\n",
       "mths_since_last_delinq        25682\n",
       "                              ...  \n",
       "tax_liens                        39\n",
       "tot_hi_cred_lim               39717\n",
       "total_bal_ex_mort             39717\n",
       "total_bc_limit                39717\n",
       "total_il_high_credit_limit    39717\n",
       "Length: 68, dtype: int64"
      ]
     },
     "execution_count": 5,
     "metadata": {},
     "output_type": "execute_result"
    }
   ],
   "source": [
    "loan_data.isna().sum()[loan_data.isna().sum()>0]"
   ]
  },
  {
   "cell_type": "code",
   "execution_count": 6,
   "id": "7cff3cb5",
   "metadata": {},
   "outputs": [
    {
     "data": {
      "image/png": "[encoded data removed]",
      "text/plain": [
       "<Figure size 640x480 with 1 Axes>"
      ]
     },
     "metadata": {},
     "output_type": "display_data"
    }
   ],
   "source": [
    "plt.bar(loan_data.isna().sum()[loan_data.isna().sum()>0].index,loan_data.isna().sum()[loan_data.isna().sum()>0].values,width=0.5, align='center', edgecolor='Orange',color='cyan')\n",
    "plt.xlabel(\"Columns\", fontdict={'fontsize': 12, 'fontweight' : 5, 'color' : 'Brown'})\n",
    "plt.ylabel(\"Number of null values\", fontdict={'fontsize': 12, 'fontweight' : 5, 'color' : 'Brown'})\n",
    "plt.xticks(rotation=90)\n",
    "plt.show()"
   ]
  },
  {
   "cell_type": "code",
   "execution_count": 7,
   "id": "f643fba6",
   "metadata": {},
   "outputs": [
    {
     "data": {
      "text/plain": [
       "68"
      ]
     },
     "execution_count": 7,
     "metadata": {},
     "output_type": "execute_result"
    }
   ],
   "source": [
    "loan_data.isna().sum()[loan_data.isna().sum()>0].count()"
   ]
  },
  {
   "cell_type": "markdown",
   "id": "1c593f9b",
   "metadata": {},
   "source": [
    "It is observed that there are 68 columns which have atleast a missing value and also some columns have almost all null values.\n",
    "From the above bar graph, we can see most of the columns have atleast 10000 missing values out of 39717 rows(which is almost 25 %).Let us make a cutoff of 10000 and delete all the columns which have more than 10000 null values/missing values.For remaining columns, we can analyse further if we can clean them or not."
   ]
  },
  {
   "cell_type": "code",
   "execution_count": 8,
   "id": "9972ea46",
   "metadata": {},
   "outputs": [
    {
     "data": {
      "text/plain": [
       "Index(['desc', 'mths_since_last_delinq', 'mths_since_last_record',\n",
       "       'next_pymnt_d', 'mths_since_last_major_derog', 'annual_inc_joint',\n",
       "       'dti_joint', 'verification_status_joint', 'tot_coll_amt', 'tot_cur_bal',\n",
       "       'open_acc_6m', 'open_il_6m', 'open_il_12m', 'open_il_24m',\n",
       "       'mths_since_rcnt_il', 'total_bal_il', 'il_util', 'open_rv_12m',\n",
       "       'open_rv_24m', 'max_bal_bc', 'all_util', 'total_rev_hi_lim', 'inq_fi',\n",
       "       'total_cu_tl', 'inq_last_12m', 'acc_open_past_24mths', 'avg_cur_bal',\n",
       "       'bc_open_to_buy', 'bc_util', 'mo_sin_old_il_acct',\n",
       "       'mo_sin_old_rev_tl_op', 'mo_sin_rcnt_rev_tl_op', 'mo_sin_rcnt_tl',\n",
       "       'mort_acc', 'mths_since_recent_bc', 'mths_since_recent_bc_dlq',\n",
       "       'mths_since_recent_inq', 'mths_since_recent_revol_delinq',\n",
       "       'num_accts_ever_120_pd', 'num_actv_bc_tl', 'num_actv_rev_tl',\n",
       "       'num_bc_sats', 'num_bc_tl', 'num_il_tl', 'num_op_rev_tl',\n",
       "       'num_rev_accts', 'num_rev_tl_bal_gt_0', 'num_sats', 'num_tl_120dpd_2m',\n",
       "       'num_tl_30dpd', 'num_tl_90g_dpd_24m', 'num_tl_op_past_12m',\n",
       "       'pct_tl_nvr_dlq', 'percent_bc_gt_75', 'tot_hi_cred_lim',\n",
       "       'total_bal_ex_mort', 'total_bc_limit', 'total_il_high_credit_limit'],\n",
       "      dtype='object')"
      ]
     },
     "execution_count": 8,
     "metadata": {},
     "output_type": "execute_result"
    }
   ],
   "source": [
    "loan_data.isna().sum()[loan_data.isna().sum()>10000].index"
   ]
  },
  {
   "cell_type": "code",
   "execution_count": 9,
   "id": "ff3c3252",
   "metadata": {},
   "outputs": [],
   "source": [
    "loan_data.drop(columns=loan_data.isna().sum()[loan_data.isna().sum()>10000].index,inplace=True)"
   ]
  },
  {
   "cell_type": "code",
   "execution_count": 10,
   "id": "a7f63fbe",
   "metadata": {},
   "outputs": [
    {
     "data": {
      "text/plain": [
       "(39717, 53)"
      ]
     },
     "execution_count": 10,
     "metadata": {},
     "output_type": "execute_result"
    }
   ],
   "source": [
    "loan_data.shape"
   ]
  },
  {
   "cell_type": "code",
   "execution_count": 11,
   "id": "d07686aa",
   "metadata": {},
   "outputs": [
    {
     "data": {
      "text/plain": [
       "emp_title                     2459\n",
       "emp_length                    1075\n",
       "title                           11\n",
       "revol_util                      50\n",
       "last_pymnt_d                    71\n",
       "last_credit_pull_d               2\n",
       "collections_12_mths_ex_med      56\n",
       "chargeoff_within_12_mths        56\n",
       "pub_rec_bankruptcies           697\n",
       "tax_liens                       39\n",
       "dtype: int64"
      ]
     },
     "execution_count": 11,
     "metadata": {},
     "output_type": "execute_result"
    }
   ],
   "source": [
    "loan_data.isna().sum()[loan_data.isna().sum()>0]"
   ]
  },
  {
   "cell_type": "markdown",
   "id": "dfcd66f2",
   "metadata": {},
   "source": [
    "Let us analyze the columns which have missing values"
   ]
  },
  {
   "cell_type": "code",
   "execution_count": 12,
   "id": "ccf6b1a7",
   "metadata": {
    "scrolled": false
   },
   "outputs": [
    {
     "data": {
      "text/html": [
       "<div>\n",
       "<style scoped>\n",
       "    .dataframe tbody tr th:only-of-type {\n",
       "        vertical-align: middle;\n",
       "    }\n",
       "\n",
       "    .dataframe tbody tr th {\n",
       "        vertical-align: top;\n",
       "    }\n",
       "\n",
       "    .dataframe thead th {\n",
       "        text-align: right;\n",
       "    }\n",
       "</style>\n",
       "<table border=\"1\" class=\"dataframe\">\n",
       "  <thead>\n",
       "    <tr style=\"text-align: right;\">\n",
       "      <th></th>\n",
       "      <th>emp_title</th>\n",
       "      <th>emp_length</th>\n",
       "      <th>title</th>\n",
       "      <th>revol_util</th>\n",
       "      <th>last_pymnt_d</th>\n",
       "      <th>last_credit_pull_d</th>\n",
       "      <th>collections_12_mths_ex_med</th>\n",
       "      <th>chargeoff_within_12_mths</th>\n",
       "      <th>pub_rec_bankruptcies</th>\n",
       "      <th>tax_liens</th>\n",
       "    </tr>\n",
       "  </thead>\n",
       "  <tbody>\n",
       "    <tr>\n",
       "      <th>0</th>\n",
       "      <td>NaN</td>\n",
       "      <td>10+ years</td>\n",
       "      <td>Computer</td>\n",
       "      <td>83.70%</td>\n",
       "      <td>Jan-15</td>\n",
       "      <td>May-16</td>\n",
       "      <td>0.0</td>\n",
       "      <td>0.0</td>\n",
       "      <td>0.0</td>\n",
       "      <td>0.0</td>\n",
       "    </tr>\n",
       "    <tr>\n",
       "      <th>1</th>\n",
       "      <td>Ryder</td>\n",
       "      <td>&lt; 1 year</td>\n",
       "      <td>bike</td>\n",
       "      <td>9.40%</td>\n",
       "      <td>Apr-13</td>\n",
       "      <td>Sep-13</td>\n",
       "      <td>0.0</td>\n",
       "      <td>0.0</td>\n",
       "      <td>0.0</td>\n",
       "      <td>0.0</td>\n",
       "    </tr>\n",
       "    <tr>\n",
       "      <th>2</th>\n",
       "      <td>NaN</td>\n",
       "      <td>10+ years</td>\n",
       "      <td>real estate business</td>\n",
       "      <td>98.50%</td>\n",
       "      <td>Jun-14</td>\n",
       "      <td>May-16</td>\n",
       "      <td>0.0</td>\n",
       "      <td>0.0</td>\n",
       "      <td>0.0</td>\n",
       "      <td>0.0</td>\n",
       "    </tr>\n",
       "    <tr>\n",
       "      <th>3</th>\n",
       "      <td>AIR RESOURCES BOARD</td>\n",
       "      <td>10+ years</td>\n",
       "      <td>personel</td>\n",
       "      <td>21%</td>\n",
       "      <td>Jan-15</td>\n",
       "      <td>Apr-16</td>\n",
       "      <td>0.0</td>\n",
       "      <td>0.0</td>\n",
       "      <td>0.0</td>\n",
       "      <td>0.0</td>\n",
       "    </tr>\n",
       "    <tr>\n",
       "      <th>4</th>\n",
       "      <td>University Medical Group</td>\n",
       "      <td>1 year</td>\n",
       "      <td>Personal</td>\n",
       "      <td>53.90%</td>\n",
       "      <td>May-16</td>\n",
       "      <td>May-16</td>\n",
       "      <td>0.0</td>\n",
       "      <td>0.0</td>\n",
       "      <td>0.0</td>\n",
       "      <td>0.0</td>\n",
       "    </tr>\n",
       "    <tr>\n",
       "      <th>...</th>\n",
       "      <td>...</td>\n",
       "      <td>...</td>\n",
       "      <td>...</td>\n",
       "      <td>...</td>\n",
       "      <td>...</td>\n",
       "      <td>...</td>\n",
       "      <td>...</td>\n",
       "      <td>...</td>\n",
       "      <td>...</td>\n",
       "      <td>...</td>\n",
       "    </tr>\n",
       "    <tr>\n",
       "      <th>39712</th>\n",
       "      <td>FiSite Research</td>\n",
       "      <td>4 years</td>\n",
       "      <td>Home Improvement</td>\n",
       "      <td>13.10%</td>\n",
       "      <td>Jul-10</td>\n",
       "      <td>Jun-10</td>\n",
       "      <td>NaN</td>\n",
       "      <td>NaN</td>\n",
       "      <td>NaN</td>\n",
       "      <td>NaN</td>\n",
       "    </tr>\n",
       "    <tr>\n",
       "      <th>39713</th>\n",
       "      <td>Squarewave Solutions, Ltd.</td>\n",
       "      <td>3 years</td>\n",
       "      <td>Retiring credit card debt</td>\n",
       "      <td>26.90%</td>\n",
       "      <td>Jul-10</td>\n",
       "      <td>Jul-10</td>\n",
       "      <td>NaN</td>\n",
       "      <td>NaN</td>\n",
       "      <td>NaN</td>\n",
       "      <td>NaN</td>\n",
       "    </tr>\n",
       "    <tr>\n",
       "      <th>39714</th>\n",
       "      <td>NaN</td>\n",
       "      <td>&lt; 1 year</td>\n",
       "      <td>MBA Loan Consolidation</td>\n",
       "      <td>19.40%</td>\n",
       "      <td>Apr-08</td>\n",
       "      <td>Jun-07</td>\n",
       "      <td>NaN</td>\n",
       "      <td>NaN</td>\n",
       "      <td>NaN</td>\n",
       "      <td>NaN</td>\n",
       "    </tr>\n",
       "    <tr>\n",
       "      <th>39715</th>\n",
       "      <td>NaN</td>\n",
       "      <td>&lt; 1 year</td>\n",
       "      <td>JAL Loan</td>\n",
       "      <td>0.70%</td>\n",
       "      <td>Jan-08</td>\n",
       "      <td>Jun-07</td>\n",
       "      <td>NaN</td>\n",
       "      <td>NaN</td>\n",
       "      <td>NaN</td>\n",
       "      <td>NaN</td>\n",
       "    </tr>\n",
       "    <tr>\n",
       "      <th>39716</th>\n",
       "      <td>Evergreen Center</td>\n",
       "      <td>&lt; 1 year</td>\n",
       "      <td>Consolidation Loan</td>\n",
       "      <td>51.50%</td>\n",
       "      <td>Jun-10</td>\n",
       "      <td>Jun-10</td>\n",
       "      <td>NaN</td>\n",
       "      <td>NaN</td>\n",
       "      <td>NaN</td>\n",
       "      <td>NaN</td>\n",
       "    </tr>\n",
       "  </tbody>\n",
       "</table>\n",
       "<p>39717 rows × 10 columns</p>\n",
       "</div>"
      ],
      "text/plain": [
       "                        emp_title emp_length                      title  \\\n",
       "0                             NaN  10+ years                   Computer   \n",
       "1                           Ryder   < 1 year                       bike   \n",
       "2                             NaN  10+ years       real estate business   \n",
       "3             AIR RESOURCES BOARD  10+ years                   personel   \n",
       "4        University Medical Group     1 year                   Personal   \n",
       "...                           ...        ...                        ...   \n",
       "39712             FiSite Research    4 years           Home Improvement   \n",
       "39713  Squarewave Solutions, Ltd.    3 years  Retiring credit card debt   \n",
       "39714                         NaN   < 1 year     MBA Loan Consolidation   \n",
       "39715                         NaN   < 1 year                   JAL Loan   \n",
       "39716            Evergreen Center   < 1 year         Consolidation Loan   \n",
       "\n",
       "      revol_util last_pymnt_d last_credit_pull_d  collections_12_mths_ex_med  \\\n",
       "0         83.70%       Jan-15             May-16                         0.0   \n",
       "1          9.40%       Apr-13             Sep-13                         0.0   \n",
       "2         98.50%       Jun-14             May-16                         0.0   \n",
       "3            21%       Jan-15             Apr-16                         0.0   \n",
       "4         53.90%       May-16             May-16                         0.0   \n",
       "...          ...          ...                ...                         ...   \n",
       "39712     13.10%       Jul-10             Jun-10                         NaN   \n",
       "39713     26.90%       Jul-10             Jul-10                         NaN   \n",
       "39714     19.40%       Apr-08             Jun-07                         NaN   \n",
       "39715      0.70%       Jan-08             Jun-07                         NaN   \n",
       "39716     51.50%       Jun-10             Jun-10                         NaN   \n",
       "\n",
       "       chargeoff_within_12_mths  pub_rec_bankruptcies  tax_liens  \n",
       "0                           0.0                   0.0        0.0  \n",
       "1                           0.0                   0.0        0.0  \n",
       "2                           0.0                   0.0        0.0  \n",
       "3                           0.0                   0.0        0.0  \n",
       "4                           0.0                   0.0        0.0  \n",
       "...                         ...                   ...        ...  \n",
       "39712                       NaN                   NaN        NaN  \n",
       "39713                       NaN                   NaN        NaN  \n",
       "39714                       NaN                   NaN        NaN  \n",
       "39715                       NaN                   NaN        NaN  \n",
       "39716                       NaN                   NaN        NaN  \n",
       "\n",
       "[39717 rows x 10 columns]"
      ]
     },
     "execution_count": 12,
     "metadata": {},
     "output_type": "execute_result"
    }
   ],
   "source": [
    "loan_data[loan_data.isna().sum()[loan_data.isna().sum()>0].index]"
   ]
  },
  {
   "cell_type": "markdown",
   "id": "b4acfa35",
   "metadata": {},
   "source": [
    "Let us analyze the number of unique values in each of the above columns"
   ]
  },
  {
   "cell_type": "code",
   "execution_count": 13,
   "id": "ee47b36a",
   "metadata": {},
   "outputs": [
    {
     "data": {
      "text/plain": [
       "emp_title                     28820\n",
       "emp_length                       11\n",
       "title                         19615\n",
       "revol_util                     1089\n",
       "last_pymnt_d                    101\n",
       "last_credit_pull_d              106\n",
       "collections_12_mths_ex_med        1\n",
       "chargeoff_within_12_mths          1\n",
       "pub_rec_bankruptcies              3\n",
       "tax_liens                         1\n",
       "dtype: int64"
      ]
     },
     "execution_count": 13,
     "metadata": {},
     "output_type": "execute_result"
    }
   ],
   "source": [
    "loan_data[loan_data.isna().sum()[loan_data.isna().sum()>0].index].nunique()"
   ]
  },
  {
   "cell_type": "markdown",
   "id": "06140e16",
   "metadata": {},
   "source": [
    "emp_title and title columns have more unique values which does not have any impact on analysis. Let us remove them."
   ]
  },
  {
   "cell_type": "code",
   "execution_count": 14,
   "id": "ecf5d2bf",
   "metadata": {},
   "outputs": [],
   "source": [
    "loan_data.drop(columns=[\"emp_title\",\"title\"],inplace=True)"
   ]
  },
  {
   "cell_type": "code",
   "execution_count": 15,
   "id": "2cb9c72b",
   "metadata": {},
   "outputs": [
    {
     "data": {
      "text/plain": [
       "(39717, 51)"
      ]
     },
     "execution_count": 15,
     "metadata": {},
     "output_type": "execute_result"
    }
   ],
   "source": [
    "loan_data.shape"
   ]
  },
  {
   "cell_type": "markdown",
   "id": "58b3ae80",
   "metadata": {},
   "source": [
    "Some columns have only one unique value. They cannot be used for any analysis. Let us remove them."
   ]
  },
  {
   "cell_type": "code",
   "execution_count": 16,
   "id": "fb7d5742",
   "metadata": {},
   "outputs": [],
   "source": [
    "loan_data.drop(columns=loan_data.nunique()[loan_data.nunique()==1].index,inplace=True)"
   ]
  },
  {
   "cell_type": "code",
   "execution_count": 17,
   "id": "958c707c",
   "metadata": {},
   "outputs": [
    {
     "data": {
      "text/plain": [
       "(39717, 42)"
      ]
     },
     "execution_count": 17,
     "metadata": {},
     "output_type": "execute_result"
    }
   ],
   "source": [
    "loan_data.shape"
   ]
  },
  {
   "cell_type": "code",
   "execution_count": 18,
   "id": "548b5ed1",
   "metadata": {},
   "outputs": [
    {
     "data": {
      "text/html": [
       "<div>\n",
       "<style scoped>\n",
       "    .dataframe tbody tr th:only-of-type {\n",
       "        vertical-align: middle;\n",
       "    }\n",
       "\n",
       "    .dataframe tbody tr th {\n",
       "        vertical-align: top;\n",
       "    }\n",
       "\n",
       "    .dataframe thead th {\n",
       "        text-align: right;\n",
       "    }\n",
       "</style>\n",
       "<table border=\"1\" class=\"dataframe\">\n",
       "  <thead>\n",
       "    <tr style=\"text-align: right;\">\n",
       "      <th></th>\n",
       "      <th>id</th>\n",
       "      <th>member_id</th>\n",
       "      <th>loan_amnt</th>\n",
       "      <th>funded_amnt</th>\n",
       "      <th>funded_amnt_inv</th>\n",
       "      <th>term</th>\n",
       "      <th>int_rate</th>\n",
       "      <th>installment</th>\n",
       "      <th>grade</th>\n",
       "      <th>sub_grade</th>\n",
       "      <th>...</th>\n",
       "      <th>total_pymnt_inv</th>\n",
       "      <th>total_rec_prncp</th>\n",
       "      <th>total_rec_int</th>\n",
       "      <th>total_rec_late_fee</th>\n",
       "      <th>recoveries</th>\n",
       "      <th>collection_recovery_fee</th>\n",
       "      <th>last_pymnt_d</th>\n",
       "      <th>last_pymnt_amnt</th>\n",
       "      <th>last_credit_pull_d</th>\n",
       "      <th>pub_rec_bankruptcies</th>\n",
       "    </tr>\n",
       "  </thead>\n",
       "  <tbody>\n",
       "    <tr>\n",
       "      <th>0</th>\n",
       "      <td>1077501</td>\n",
       "      <td>1296599</td>\n",
       "      <td>5000</td>\n",
       "      <td>5000</td>\n",
       "      <td>4975.0</td>\n",
       "      <td>36 months</td>\n",
       "      <td>10.65%</td>\n",
       "      <td>162.87</td>\n",
       "      <td>B</td>\n",
       "      <td>B2</td>\n",
       "      <td>...</td>\n",
       "      <td>5833.84</td>\n",
       "      <td>5000.00</td>\n",
       "      <td>863.16</td>\n",
       "      <td>0.00</td>\n",
       "      <td>0.00</td>\n",
       "      <td>0.00</td>\n",
       "      <td>Jan-15</td>\n",
       "      <td>171.62</td>\n",
       "      <td>May-16</td>\n",
       "      <td>0.0</td>\n",
       "    </tr>\n",
       "    <tr>\n",
       "      <th>1</th>\n",
       "      <td>1077430</td>\n",
       "      <td>1314167</td>\n",
       "      <td>2500</td>\n",
       "      <td>2500</td>\n",
       "      <td>2500.0</td>\n",
       "      <td>60 months</td>\n",
       "      <td>15.27%</td>\n",
       "      <td>59.83</td>\n",
       "      <td>C</td>\n",
       "      <td>C4</td>\n",
       "      <td>...</td>\n",
       "      <td>1008.71</td>\n",
       "      <td>456.46</td>\n",
       "      <td>435.17</td>\n",
       "      <td>0.00</td>\n",
       "      <td>117.08</td>\n",
       "      <td>1.11</td>\n",
       "      <td>Apr-13</td>\n",
       "      <td>119.66</td>\n",
       "      <td>Sep-13</td>\n",
       "      <td>0.0</td>\n",
       "    </tr>\n",
       "    <tr>\n",
       "      <th>2</th>\n",
       "      <td>1077175</td>\n",
       "      <td>1313524</td>\n",
       "      <td>2400</td>\n",
       "      <td>2400</td>\n",
       "      <td>2400.0</td>\n",
       "      <td>36 months</td>\n",
       "      <td>15.96%</td>\n",
       "      <td>84.33</td>\n",
       "      <td>C</td>\n",
       "      <td>C5</td>\n",
       "      <td>...</td>\n",
       "      <td>3005.67</td>\n",
       "      <td>2400.00</td>\n",
       "      <td>605.67</td>\n",
       "      <td>0.00</td>\n",
       "      <td>0.00</td>\n",
       "      <td>0.00</td>\n",
       "      <td>Jun-14</td>\n",
       "      <td>649.91</td>\n",
       "      <td>May-16</td>\n",
       "      <td>0.0</td>\n",
       "    </tr>\n",
       "    <tr>\n",
       "      <th>3</th>\n",
       "      <td>1076863</td>\n",
       "      <td>1277178</td>\n",
       "      <td>10000</td>\n",
       "      <td>10000</td>\n",
       "      <td>10000.0</td>\n",
       "      <td>36 months</td>\n",
       "      <td>13.49%</td>\n",
       "      <td>339.31</td>\n",
       "      <td>C</td>\n",
       "      <td>C1</td>\n",
       "      <td>...</td>\n",
       "      <td>12231.89</td>\n",
       "      <td>10000.00</td>\n",
       "      <td>2214.92</td>\n",
       "      <td>16.97</td>\n",
       "      <td>0.00</td>\n",
       "      <td>0.00</td>\n",
       "      <td>Jan-15</td>\n",
       "      <td>357.48</td>\n",
       "      <td>Apr-16</td>\n",
       "      <td>0.0</td>\n",
       "    </tr>\n",
       "    <tr>\n",
       "      <th>4</th>\n",
       "      <td>1075358</td>\n",
       "      <td>1311748</td>\n",
       "      <td>3000</td>\n",
       "      <td>3000</td>\n",
       "      <td>3000.0</td>\n",
       "      <td>60 months</td>\n",
       "      <td>12.69%</td>\n",
       "      <td>67.79</td>\n",
       "      <td>B</td>\n",
       "      <td>B5</td>\n",
       "      <td>...</td>\n",
       "      <td>3513.33</td>\n",
       "      <td>2475.94</td>\n",
       "      <td>1037.39</td>\n",
       "      <td>0.00</td>\n",
       "      <td>0.00</td>\n",
       "      <td>0.00</td>\n",
       "      <td>May-16</td>\n",
       "      <td>67.79</td>\n",
       "      <td>May-16</td>\n",
       "      <td>0.0</td>\n",
       "    </tr>\n",
       "  </tbody>\n",
       "</table>\n",
       "<p>5 rows × 42 columns</p>\n",
       "</div>"
      ],
      "text/plain": [
       "        id  member_id  loan_amnt  funded_amnt  funded_amnt_inv        term  \\\n",
       "0  1077501    1296599       5000         5000           4975.0   36 months   \n",
       "1  1077430    1314167       2500         2500           2500.0   60 months   \n",
       "2  1077175    1313524       2400         2400           2400.0   36 months   \n",
       "3  1076863    1277178      10000        10000          10000.0   36 months   \n",
       "4  1075358    1311748       3000         3000           3000.0   60 months   \n",
       "\n",
       "  int_rate  installment grade sub_grade  ... total_pymnt_inv total_rec_prncp  \\\n",
       "0   10.65%       162.87     B        B2  ...         5833.84         5000.00   \n",
       "1   15.27%        59.83     C        C4  ...         1008.71          456.46   \n",
       "2   15.96%        84.33     C        C5  ...         3005.67         2400.00   \n",
       "3   13.49%       339.31     C        C1  ...        12231.89        10000.00   \n",
       "4   12.69%        67.79     B        B5  ...         3513.33         2475.94   \n",
       "\n",
       "   total_rec_int total_rec_late_fee recoveries collection_recovery_fee  \\\n",
       "0         863.16               0.00       0.00                    0.00   \n",
       "1         435.17               0.00     117.08                    1.11   \n",
       "2         605.67               0.00       0.00                    0.00   \n",
       "3        2214.92              16.97       0.00                    0.00   \n",
       "4        1037.39               0.00       0.00                    0.00   \n",
       "\n",
       "  last_pymnt_d last_pymnt_amnt last_credit_pull_d pub_rec_bankruptcies  \n",
       "0       Jan-15          171.62             May-16                  0.0  \n",
       "1       Apr-13          119.66             Sep-13                  0.0  \n",
       "2       Jun-14          649.91             May-16                  0.0  \n",
       "3       Jan-15          357.48             Apr-16                  0.0  \n",
       "4       May-16           67.79             May-16                  0.0  \n",
       "\n",
       "[5 rows x 42 columns]"
      ]
     },
     "execution_count": 18,
     "metadata": {},
     "output_type": "execute_result"
    }
   ],
   "source": [
    "loan_data.head()"
   ]
  },
  {
   "cell_type": "code",
   "execution_count": 19,
   "id": "4af90cfe",
   "metadata": {},
   "outputs": [
    {
     "data": {
      "text/plain": [
       "Index(['id', 'member_id', 'loan_amnt', 'funded_amnt', 'funded_amnt_inv',\n",
       "       'term', 'int_rate', 'installment', 'grade', 'sub_grade', 'emp_length',\n",
       "       'home_ownership', 'annual_inc', 'verification_status', 'issue_d',\n",
       "       'loan_status', 'url', 'purpose', 'zip_code', 'addr_state', 'dti',\n",
       "       'delinq_2yrs', 'earliest_cr_line', 'inq_last_6mths', 'open_acc',\n",
       "       'pub_rec', 'revol_bal', 'revol_util', 'total_acc', 'out_prncp',\n",
       "       'out_prncp_inv', 'total_pymnt', 'total_pymnt_inv', 'total_rec_prncp',\n",
       "       'total_rec_int', 'total_rec_late_fee', 'recoveries',\n",
       "       'collection_recovery_fee', 'last_pymnt_d', 'last_pymnt_amnt',\n",
       "       'last_credit_pull_d', 'pub_rec_bankruptcies'],\n",
       "      dtype='object')"
      ]
     },
     "execution_count": 19,
     "metadata": {},
     "output_type": "execute_result"
    }
   ],
   "source": [
    "loan_data.columns"
   ]
  },
  {
   "cell_type": "markdown",
   "id": "b878e1c0",
   "metadata": {},
   "source": [
    "From the above columns - total_rec_int, total_rec_prncp, total_rec_late_fee, last_credit_pull_d, recoveries, collection_recovery_fee, last_pymnt_d,out_prncp,out_prncp_inv  are the features of post loan approval, which may not need for us to analyse loan approval."
   ]
  },
  {
   "cell_type": "code",
   "execution_count": 20,
   "id": "c82ba460",
   "metadata": {},
   "outputs": [],
   "source": [
    "loan_data.drop(columns=['total_rec_int', 'total_rec_prncp', 'total_rec_late_fee', 'last_credit_pull_d', 'recoveries', 'collection_recovery_fee', 'last_pymnt_d','out_prncp','out_prncp_inv'],inplace=True)"
   ]
  },
  {
   "cell_type": "code",
   "execution_count": 21,
   "id": "a4e192eb",
   "metadata": {},
   "outputs": [
    {
     "data": {
      "text/plain": [
       "(39717, 33)"
      ]
     },
     "execution_count": 21,
     "metadata": {},
     "output_type": "execute_result"
    }
   ],
   "source": [
    "loan_data.shape"
   ]
  },
  {
   "cell_type": "code",
   "execution_count": 22,
   "id": "c45a9953",
   "metadata": {},
   "outputs": [
    {
     "data": {
      "text/plain": [
       "id                      39717\n",
       "member_id               39717\n",
       "loan_amnt                 885\n",
       "funded_amnt              1041\n",
       "funded_amnt_inv          8205\n",
       "term                        2\n",
       "int_rate                  371\n",
       "installment             15383\n",
       "grade                       7\n",
       "sub_grade                  35\n",
       "emp_length                 11\n",
       "home_ownership              5\n",
       "annual_inc               5318\n",
       "verification_status         3\n",
       "issue_d                    55\n",
       "loan_status                 3\n",
       "url                     39717\n",
       "purpose                    14\n",
       "zip_code                  823\n",
       "addr_state                 50\n",
       "dti                      2868\n",
       "delinq_2yrs                11\n",
       "earliest_cr_line          526\n",
       "inq_last_6mths              9\n",
       "open_acc                   40\n",
       "pub_rec                     5\n",
       "revol_bal               21711\n",
       "revol_util               1089\n",
       "total_acc                  82\n",
       "total_pymnt             37850\n",
       "total_pymnt_inv         37518\n",
       "last_pymnt_amnt         34930\n",
       "pub_rec_bankruptcies        3\n",
       "dtype: int64"
      ]
     },
     "execution_count": 22,
     "metadata": {},
     "output_type": "execute_result"
    }
   ],
   "source": [
    "loan_data.nunique()"
   ]
  },
  {
   "cell_type": "markdown",
   "id": "9efc9713",
   "metadata": {},
   "source": [
    "As we can see, id,member_id and url are unique for each borrower. So we can drop those columns as they are not needed for further analysis"
   ]
  },
  {
   "cell_type": "code",
   "execution_count": 23,
   "id": "fc0024ba",
   "metadata": {},
   "outputs": [],
   "source": [
    "loan_data.drop(columns=[\"id\",\"member_id\",\"url\"],inplace=True)"
   ]
  },
  {
   "cell_type": "code",
   "execution_count": 24,
   "id": "47d62c55",
   "metadata": {},
   "outputs": [
    {
     "data": {
      "text/plain": [
       "loan_amnt                 885\n",
       "funded_amnt              1041\n",
       "funded_amnt_inv          8205\n",
       "term                        2\n",
       "int_rate                  371\n",
       "installment             15383\n",
       "grade                       7\n",
       "sub_grade                  35\n",
       "emp_length                 11\n",
       "home_ownership              5\n",
       "annual_inc               5318\n",
       "verification_status         3\n",
       "issue_d                    55\n",
       "loan_status                 3\n",
       "purpose                    14\n",
       "zip_code                  823\n",
       "addr_state                 50\n",
       "dti                      2868\n",
       "delinq_2yrs                11\n",
       "earliest_cr_line          526\n",
       "inq_last_6mths              9\n",
       "open_acc                   40\n",
       "pub_rec                     5\n",
       "revol_bal               21711\n",
       "revol_util               1089\n",
       "total_acc                  82\n",
       "total_pymnt             37850\n",
       "total_pymnt_inv         37518\n",
       "last_pymnt_amnt         34930\n",
       "pub_rec_bankruptcies        3\n",
       "dtype: int64"
      ]
     },
     "execution_count": 24,
     "metadata": {},
     "output_type": "execute_result"
    }
   ],
   "source": [
    "loan_data.nunique()"
   ]
  },
  {
   "cell_type": "code",
   "execution_count": 25,
   "id": "6a8b8ae5",
   "metadata": {},
   "outputs": [
    {
     "data": {
      "text/plain": [
       "loan_amnt                  0\n",
       "funded_amnt                0\n",
       "funded_amnt_inv            0\n",
       "term                       0\n",
       "int_rate                   0\n",
       "installment                0\n",
       "grade                      0\n",
       "sub_grade                  0\n",
       "emp_length              1075\n",
       "home_ownership             0\n",
       "annual_inc                 0\n",
       "verification_status        0\n",
       "issue_d                    0\n",
       "loan_status                0\n",
       "purpose                    0\n",
       "zip_code                   0\n",
       "addr_state                 0\n",
       "dti                        0\n",
       "delinq_2yrs                0\n",
       "earliest_cr_line           0\n",
       "inq_last_6mths             0\n",
       "open_acc                   0\n",
       "pub_rec                    0\n",
       "revol_bal                  0\n",
       "revol_util                50\n",
       "total_acc                  0\n",
       "total_pymnt                0\n",
       "total_pymnt_inv            0\n",
       "last_pymnt_amnt            0\n",
       "pub_rec_bankruptcies     697\n",
       "dtype: int64"
      ]
     },
     "execution_count": 25,
     "metadata": {},
     "output_type": "execute_result"
    }
   ],
   "source": [
    "loan_data.isna().sum()"
   ]
  },
  {
   "cell_type": "markdown",
   "id": "e49c37ef",
   "metadata": {},
   "source": [
    "Now we have only three columns which have missing values. Let us now find what percent of rows, these columns have missing values. If the percentage is less, we can delete those rows. "
   ]
  },
  {
   "cell_type": "code",
   "execution_count": 26,
   "id": "27b78b65",
   "metadata": {},
   "outputs": [
    {
     "data": {
      "text/plain": [
       "emp_length              2.706650\n",
       "revol_util              0.125891\n",
       "pub_rec_bankruptcies    1.754916\n",
       "dtype: float64"
      ]
     },
     "execution_count": 26,
     "metadata": {},
     "output_type": "execute_result"
    }
   ],
   "source": [
    "percent_of_missing_values = 100*loan_data.isna().sum()/len(loan_data)\n",
    "percent_of_missing_values[100*loan_data.isna().sum()/len(loan_data)>0]"
   ]
  },
  {
   "cell_type": "markdown",
   "id": "e202a9a2",
   "metadata": {},
   "source": [
    "As we can clearly see the percentage is less than 3, we can delete those rows with missing values."
   ]
  },
  {
   "cell_type": "code",
   "execution_count": 27,
   "id": "d3518b8e",
   "metadata": {},
   "outputs": [],
   "source": [
    "loan_data.dropna(subset=['emp_length', 'revol_util', 'pub_rec_bankruptcies'],axis=0, inplace=True)"
   ]
  },
  {
   "cell_type": "code",
   "execution_count": 28,
   "id": "6c26acc1",
   "metadata": {},
   "outputs": [
    {
     "data": {
      "text/plain": [
       "loan_amnt               0\n",
       "funded_amnt             0\n",
       "funded_amnt_inv         0\n",
       "term                    0\n",
       "int_rate                0\n",
       "installment             0\n",
       "grade                   0\n",
       "sub_grade               0\n",
       "emp_length              0\n",
       "home_ownership          0\n",
       "annual_inc              0\n",
       "verification_status     0\n",
       "issue_d                 0\n",
       "loan_status             0\n",
       "purpose                 0\n",
       "zip_code                0\n",
       "addr_state              0\n",
       "dti                     0\n",
       "delinq_2yrs             0\n",
       "earliest_cr_line        0\n",
       "inq_last_6mths          0\n",
       "open_acc                0\n",
       "pub_rec                 0\n",
       "revol_bal               0\n",
       "revol_util              0\n",
       "total_acc               0\n",
       "total_pymnt             0\n",
       "total_pymnt_inv         0\n",
       "last_pymnt_amnt         0\n",
       "pub_rec_bankruptcies    0\n",
       "dtype: int64"
      ]
     },
     "execution_count": 28,
     "metadata": {},
     "output_type": "execute_result"
    }
   ],
   "source": [
    "loan_data.isna().sum()"
   ]
  },
  {
   "cell_type": "markdown",
   "id": "42270de7",
   "metadata": {},
   "source": [
    "Now we have removed the missing / NAN values from the data"
   ]
  },
  {
   "cell_type": "code",
   "execution_count": 29,
   "id": "cac3be6a",
   "metadata": {},
   "outputs": [
    {
     "data": {
      "text/html": [
       "<div>\n",
       "<style scoped>\n",
       "    .dataframe tbody tr th:only-of-type {\n",
       "        vertical-align: middle;\n",
       "    }\n",
       "\n",
       "    .dataframe tbody tr th {\n",
       "        vertical-align: top;\n",
       "    }\n",
       "\n",
       "    .dataframe thead th {\n",
       "        text-align: right;\n",
       "    }\n",
       "</style>\n",
       "<table border=\"1\" class=\"dataframe\">\n",
       "  <thead>\n",
       "    <tr style=\"text-align: right;\">\n",
       "      <th></th>\n",
       "      <th>loan_amnt</th>\n",
       "      <th>funded_amnt</th>\n",
       "      <th>funded_amnt_inv</th>\n",
       "      <th>term</th>\n",
       "      <th>int_rate</th>\n",
       "      <th>installment</th>\n",
       "      <th>grade</th>\n",
       "      <th>sub_grade</th>\n",
       "      <th>emp_length</th>\n",
       "      <th>home_ownership</th>\n",
       "      <th>...</th>\n",
       "      <th>inq_last_6mths</th>\n",
       "      <th>open_acc</th>\n",
       "      <th>pub_rec</th>\n",
       "      <th>revol_bal</th>\n",
       "      <th>revol_util</th>\n",
       "      <th>total_acc</th>\n",
       "      <th>total_pymnt</th>\n",
       "      <th>total_pymnt_inv</th>\n",
       "      <th>last_pymnt_amnt</th>\n",
       "      <th>pub_rec_bankruptcies</th>\n",
       "    </tr>\n",
       "  </thead>\n",
       "  <tbody>\n",
       "    <tr>\n",
       "      <th>0</th>\n",
       "      <td>5000</td>\n",
       "      <td>5000</td>\n",
       "      <td>4975.0</td>\n",
       "      <td>36 months</td>\n",
       "      <td>10.65%</td>\n",
       "      <td>162.87</td>\n",
       "      <td>B</td>\n",
       "      <td>B2</td>\n",
       "      <td>10+ years</td>\n",
       "      <td>RENT</td>\n",
       "      <td>...</td>\n",
       "      <td>1</td>\n",
       "      <td>3</td>\n",
       "      <td>0</td>\n",
       "      <td>13648</td>\n",
       "      <td>83.70%</td>\n",
       "      <td>9</td>\n",
       "      <td>5863.155187</td>\n",
       "      <td>5833.84</td>\n",
       "      <td>171.62</td>\n",
       "      <td>0.0</td>\n",
       "    </tr>\n",
       "    <tr>\n",
       "      <th>1</th>\n",
       "      <td>2500</td>\n",
       "      <td>2500</td>\n",
       "      <td>2500.0</td>\n",
       "      <td>60 months</td>\n",
       "      <td>15.27%</td>\n",
       "      <td>59.83</td>\n",
       "      <td>C</td>\n",
       "      <td>C4</td>\n",
       "      <td>&lt; 1 year</td>\n",
       "      <td>RENT</td>\n",
       "      <td>...</td>\n",
       "      <td>5</td>\n",
       "      <td>3</td>\n",
       "      <td>0</td>\n",
       "      <td>1687</td>\n",
       "      <td>9.40%</td>\n",
       "      <td>4</td>\n",
       "      <td>1008.710000</td>\n",
       "      <td>1008.71</td>\n",
       "      <td>119.66</td>\n",
       "      <td>0.0</td>\n",
       "    </tr>\n",
       "    <tr>\n",
       "      <th>2</th>\n",
       "      <td>2400</td>\n",
       "      <td>2400</td>\n",
       "      <td>2400.0</td>\n",
       "      <td>36 months</td>\n",
       "      <td>15.96%</td>\n",
       "      <td>84.33</td>\n",
       "      <td>C</td>\n",
       "      <td>C5</td>\n",
       "      <td>10+ years</td>\n",
       "      <td>RENT</td>\n",
       "      <td>...</td>\n",
       "      <td>2</td>\n",
       "      <td>2</td>\n",
       "      <td>0</td>\n",
       "      <td>2956</td>\n",
       "      <td>98.50%</td>\n",
       "      <td>10</td>\n",
       "      <td>3005.666844</td>\n",
       "      <td>3005.67</td>\n",
       "      <td>649.91</td>\n",
       "      <td>0.0</td>\n",
       "    </tr>\n",
       "    <tr>\n",
       "      <th>3</th>\n",
       "      <td>10000</td>\n",
       "      <td>10000</td>\n",
       "      <td>10000.0</td>\n",
       "      <td>36 months</td>\n",
       "      <td>13.49%</td>\n",
       "      <td>339.31</td>\n",
       "      <td>C</td>\n",
       "      <td>C1</td>\n",
       "      <td>10+ years</td>\n",
       "      <td>RENT</td>\n",
       "      <td>...</td>\n",
       "      <td>1</td>\n",
       "      <td>10</td>\n",
       "      <td>0</td>\n",
       "      <td>5598</td>\n",
       "      <td>21%</td>\n",
       "      <td>37</td>\n",
       "      <td>12231.890000</td>\n",
       "      <td>12231.89</td>\n",
       "      <td>357.48</td>\n",
       "      <td>0.0</td>\n",
       "    </tr>\n",
       "    <tr>\n",
       "      <th>4</th>\n",
       "      <td>3000</td>\n",
       "      <td>3000</td>\n",
       "      <td>3000.0</td>\n",
       "      <td>60 months</td>\n",
       "      <td>12.69%</td>\n",
       "      <td>67.79</td>\n",
       "      <td>B</td>\n",
       "      <td>B5</td>\n",
       "      <td>1 year</td>\n",
       "      <td>RENT</td>\n",
       "      <td>...</td>\n",
       "      <td>0</td>\n",
       "      <td>15</td>\n",
       "      <td>0</td>\n",
       "      <td>27783</td>\n",
       "      <td>53.90%</td>\n",
       "      <td>38</td>\n",
       "      <td>3513.330000</td>\n",
       "      <td>3513.33</td>\n",
       "      <td>67.79</td>\n",
       "      <td>0.0</td>\n",
       "    </tr>\n",
       "  </tbody>\n",
       "</table>\n",
       "<p>5 rows × 30 columns</p>\n",
       "</div>"
      ],
      "text/plain": [
       "   loan_amnt  funded_amnt  funded_amnt_inv        term int_rate  installment  \\\n",
       "0       5000         5000           4975.0   36 months   10.65%       162.87   \n",
       "1       2500         2500           2500.0   60 months   15.27%        59.83   \n",
       "2       2400         2400           2400.0   36 months   15.96%        84.33   \n",
       "3      10000        10000          10000.0   36 months   13.49%       339.31   \n",
       "4       3000         3000           3000.0   60 months   12.69%        67.79   \n",
       "\n",
       "  grade sub_grade emp_length home_ownership  ...  inq_last_6mths open_acc  \\\n",
       "0     B        B2  10+ years           RENT  ...               1        3   \n",
       "1     C        C4   < 1 year           RENT  ...               5        3   \n",
       "2     C        C5  10+ years           RENT  ...               2        2   \n",
       "3     C        C1  10+ years           RENT  ...               1       10   \n",
       "4     B        B5     1 year           RENT  ...               0       15   \n",
       "\n",
       "  pub_rec revol_bal revol_util total_acc   total_pymnt  total_pymnt_inv  \\\n",
       "0       0     13648     83.70%         9   5863.155187          5833.84   \n",
       "1       0      1687      9.40%         4   1008.710000          1008.71   \n",
       "2       0      2956     98.50%        10   3005.666844          3005.67   \n",
       "3       0      5598        21%        37  12231.890000         12231.89   \n",
       "4       0     27783     53.90%        38   3513.330000          3513.33   \n",
       "\n",
       "   last_pymnt_amnt pub_rec_bankruptcies  \n",
       "0           171.62                  0.0  \n",
       "1           119.66                  0.0  \n",
       "2           649.91                  0.0  \n",
       "3           357.48                  0.0  \n",
       "4            67.79                  0.0  \n",
       "\n",
       "[5 rows x 30 columns]"
      ]
     },
     "execution_count": 29,
     "metadata": {},
     "output_type": "execute_result"
    }
   ],
   "source": [
    "loan_data.head()"
   ]
  },
  {
   "cell_type": "code",
   "execution_count": 30,
   "id": "73f3b73d",
   "metadata": {},
   "outputs": [
    {
     "data": {
      "text/plain": [
       "array(['Fully Paid', 'Charged Off', 'Current'], dtype=object)"
      ]
     },
     "execution_count": 30,
     "metadata": {},
     "output_type": "execute_result"
    }
   ],
   "source": [
    "loan_data.loan_status.unique()"
   ]
  },
  {
   "cell_type": "markdown",
   "id": "900ae4f8",
   "metadata": {},
   "source": [
    "The column loan_status has three values (Fully Paid, Charged Off, Current). Here we cannot analyse whether the applicant is likely to default or not based on the Current status. So we can remove the rows with status is 'Current'"
   ]
  },
  {
   "cell_type": "code",
   "execution_count": 31,
   "id": "2f7c0858",
   "metadata": {},
   "outputs": [
    {
     "data": {
      "text/html": [
       "<div>\n",
       "<style scoped>\n",
       "    .dataframe tbody tr th:only-of-type {\n",
       "        vertical-align: middle;\n",
       "    }\n",
       "\n",
       "    .dataframe tbody tr th {\n",
       "        vertical-align: top;\n",
       "    }\n",
       "\n",
       "    .dataframe thead th {\n",
       "        text-align: right;\n",
       "    }\n",
       "</style>\n",
       "<table border=\"1\" class=\"dataframe\">\n",
       "  <thead>\n",
       "    <tr style=\"text-align: right;\">\n",
       "      <th></th>\n",
       "      <th>loan_amnt</th>\n",
       "      <th>funded_amnt</th>\n",
       "      <th>funded_amnt_inv</th>\n",
       "      <th>term</th>\n",
       "      <th>int_rate</th>\n",
       "      <th>installment</th>\n",
       "      <th>grade</th>\n",
       "      <th>sub_grade</th>\n",
       "      <th>emp_length</th>\n",
       "      <th>home_ownership</th>\n",
       "      <th>...</th>\n",
       "      <th>inq_last_6mths</th>\n",
       "      <th>open_acc</th>\n",
       "      <th>pub_rec</th>\n",
       "      <th>revol_bal</th>\n",
       "      <th>revol_util</th>\n",
       "      <th>total_acc</th>\n",
       "      <th>total_pymnt</th>\n",
       "      <th>total_pymnt_inv</th>\n",
       "      <th>last_pymnt_amnt</th>\n",
       "      <th>pub_rec_bankruptcies</th>\n",
       "    </tr>\n",
       "  </thead>\n",
       "  <tbody>\n",
       "    <tr>\n",
       "      <th>0</th>\n",
       "      <td>5000</td>\n",
       "      <td>5000</td>\n",
       "      <td>4975.0</td>\n",
       "      <td>36 months</td>\n",
       "      <td>10.65%</td>\n",
       "      <td>162.87</td>\n",
       "      <td>B</td>\n",
       "      <td>B2</td>\n",
       "      <td>10+ years</td>\n",
       "      <td>RENT</td>\n",
       "      <td>...</td>\n",
       "      <td>1</td>\n",
       "      <td>3</td>\n",
       "      <td>0</td>\n",
       "      <td>13648</td>\n",
       "      <td>83.70%</td>\n",
       "      <td>9</td>\n",
       "      <td>5863.155187</td>\n",
       "      <td>5833.84</td>\n",
       "      <td>171.62</td>\n",
       "      <td>0.0</td>\n",
       "    </tr>\n",
       "    <tr>\n",
       "      <th>1</th>\n",
       "      <td>2500</td>\n",
       "      <td>2500</td>\n",
       "      <td>2500.0</td>\n",
       "      <td>60 months</td>\n",
       "      <td>15.27%</td>\n",
       "      <td>59.83</td>\n",
       "      <td>C</td>\n",
       "      <td>C4</td>\n",
       "      <td>&lt; 1 year</td>\n",
       "      <td>RENT</td>\n",
       "      <td>...</td>\n",
       "      <td>5</td>\n",
       "      <td>3</td>\n",
       "      <td>0</td>\n",
       "      <td>1687</td>\n",
       "      <td>9.40%</td>\n",
       "      <td>4</td>\n",
       "      <td>1008.710000</td>\n",
       "      <td>1008.71</td>\n",
       "      <td>119.66</td>\n",
       "      <td>0.0</td>\n",
       "    </tr>\n",
       "    <tr>\n",
       "      <th>2</th>\n",
       "      <td>2400</td>\n",
       "      <td>2400</td>\n",
       "      <td>2400.0</td>\n",
       "      <td>36 months</td>\n",
       "      <td>15.96%</td>\n",
       "      <td>84.33</td>\n",
       "      <td>C</td>\n",
       "      <td>C5</td>\n",
       "      <td>10+ years</td>\n",
       "      <td>RENT</td>\n",
       "      <td>...</td>\n",
       "      <td>2</td>\n",
       "      <td>2</td>\n",
       "      <td>0</td>\n",
       "      <td>2956</td>\n",
       "      <td>98.50%</td>\n",
       "      <td>10</td>\n",
       "      <td>3005.666844</td>\n",
       "      <td>3005.67</td>\n",
       "      <td>649.91</td>\n",
       "      <td>0.0</td>\n",
       "    </tr>\n",
       "    <tr>\n",
       "      <th>3</th>\n",
       "      <td>10000</td>\n",
       "      <td>10000</td>\n",
       "      <td>10000.0</td>\n",
       "      <td>36 months</td>\n",
       "      <td>13.49%</td>\n",
       "      <td>339.31</td>\n",
       "      <td>C</td>\n",
       "      <td>C1</td>\n",
       "      <td>10+ years</td>\n",
       "      <td>RENT</td>\n",
       "      <td>...</td>\n",
       "      <td>1</td>\n",
       "      <td>10</td>\n",
       "      <td>0</td>\n",
       "      <td>5598</td>\n",
       "      <td>21%</td>\n",
       "      <td>37</td>\n",
       "      <td>12231.890000</td>\n",
       "      <td>12231.89</td>\n",
       "      <td>357.48</td>\n",
       "      <td>0.0</td>\n",
       "    </tr>\n",
       "    <tr>\n",
       "      <th>5</th>\n",
       "      <td>5000</td>\n",
       "      <td>5000</td>\n",
       "      <td>5000.0</td>\n",
       "      <td>36 months</td>\n",
       "      <td>7.90%</td>\n",
       "      <td>156.46</td>\n",
       "      <td>A</td>\n",
       "      <td>A4</td>\n",
       "      <td>3 years</td>\n",
       "      <td>RENT</td>\n",
       "      <td>...</td>\n",
       "      <td>3</td>\n",
       "      <td>9</td>\n",
       "      <td>0</td>\n",
       "      <td>7963</td>\n",
       "      <td>28.30%</td>\n",
       "      <td>12</td>\n",
       "      <td>5632.210000</td>\n",
       "      <td>5632.21</td>\n",
       "      <td>161.03</td>\n",
       "      <td>0.0</td>\n",
       "    </tr>\n",
       "  </tbody>\n",
       "</table>\n",
       "<p>5 rows × 30 columns</p>\n",
       "</div>"
      ],
      "text/plain": [
       "   loan_amnt  funded_amnt  funded_amnt_inv        term int_rate  installment  \\\n",
       "0       5000         5000           4975.0   36 months   10.65%       162.87   \n",
       "1       2500         2500           2500.0   60 months   15.27%        59.83   \n",
       "2       2400         2400           2400.0   36 months   15.96%        84.33   \n",
       "3      10000        10000          10000.0   36 months   13.49%       339.31   \n",
       "5       5000         5000           5000.0   36 months    7.90%       156.46   \n",
       "\n",
       "  grade sub_grade emp_length home_ownership  ...  inq_last_6mths open_acc  \\\n",
       "0     B        B2  10+ years           RENT  ...               1        3   \n",
       "1     C        C4   < 1 year           RENT  ...               5        3   \n",
       "2     C        C5  10+ years           RENT  ...               2        2   \n",
       "3     C        C1  10+ years           RENT  ...               1       10   \n",
       "5     A        A4    3 years           RENT  ...               3        9   \n",
       "\n",
       "  pub_rec revol_bal revol_util total_acc   total_pymnt  total_pymnt_inv  \\\n",
       "0       0     13648     83.70%         9   5863.155187          5833.84   \n",
       "1       0      1687      9.40%         4   1008.710000          1008.71   \n",
       "2       0      2956     98.50%        10   3005.666844          3005.67   \n",
       "3       0      5598        21%        37  12231.890000         12231.89   \n",
       "5       0      7963     28.30%        12   5632.210000          5632.21   \n",
       "\n",
       "   last_pymnt_amnt pub_rec_bankruptcies  \n",
       "0           171.62                  0.0  \n",
       "1           119.66                  0.0  \n",
       "2           649.91                  0.0  \n",
       "3           357.48                  0.0  \n",
       "5           161.03                  0.0  \n",
       "\n",
       "[5 rows x 30 columns]"
      ]
     },
     "execution_count": 31,
     "metadata": {},
     "output_type": "execute_result"
    }
   ],
   "source": [
    "loan_data=loan_data[loan_data.loan_status!='Current']\n",
    "loan_data.head()"
   ]
  },
  {
   "cell_type": "code",
   "execution_count": 32,
   "id": "fc1f44ab",
   "metadata": {},
   "outputs": [
    {
     "data": {
      "text/plain": [
       "array(['Fully Paid', 'Charged Off'], dtype=object)"
      ]
     },
     "execution_count": 32,
     "metadata": {},
     "output_type": "execute_result"
    }
   ],
   "source": [
    "loan_data.loan_status.unique()"
   ]
  },
  {
   "cell_type": "markdown",
   "id": "5019713b",
   "metadata": {},
   "source": [
    "### Standardise values"
   ]
  },
  {
   "cell_type": "markdown",
   "id": "423033c9",
   "metadata": {},
   "source": [
    "Let us check the datatypes of the columns"
   ]
  },
  {
   "cell_type": "code",
   "execution_count": 33,
   "id": "c6e9277a",
   "metadata": {},
   "outputs": [
    {
     "name": "stdout",
     "output_type": "stream",
     "text": [
      "<class 'pandas.core.frame.DataFrame'>\n",
      "Int64Index: 36800 entries, 0 to 39680\n",
      "Data columns (total 30 columns):\n",
      " #   Column                Non-Null Count  Dtype  \n",
      "---  ------                --------------  -----  \n",
      " 0   loan_amnt             36800 non-null  int64  \n",
      " 1   funded_amnt           36800 non-null  int64  \n",
      " 2   funded_amnt_inv       36800 non-null  float64\n",
      " 3   term                  36800 non-null  object \n",
      " 4   int_rate              36800 non-null  object \n",
      " 5   installment           36800 non-null  float64\n",
      " 6   grade                 36800 non-null  object \n",
      " 7   sub_grade             36800 non-null  object \n",
      " 8   emp_length            36800 non-null  object \n",
      " 9   home_ownership        36800 non-null  object \n",
      " 10  annual_inc            36800 non-null  float64\n",
      " 11  verification_status   36800 non-null  object \n",
      " 12  issue_d               36800 non-null  object \n",
      " 13  loan_status           36800 non-null  object \n",
      " 14  purpose               36800 non-null  object \n",
      " 15  zip_code              36800 non-null  object \n",
      " 16  addr_state            36800 non-null  object \n",
      " 17  dti                   36800 non-null  float64\n",
      " 18  delinq_2yrs           36800 non-null  int64  \n",
      " 19  earliest_cr_line      36800 non-null  object \n",
      " 20  inq_last_6mths        36800 non-null  int64  \n",
      " 21  open_acc              36800 non-null  int64  \n",
      " 22  pub_rec               36800 non-null  int64  \n",
      " 23  revol_bal             36800 non-null  int64  \n",
      " 24  revol_util            36800 non-null  object \n",
      " 25  total_acc             36800 non-null  int64  \n",
      " 26  total_pymnt           36800 non-null  float64\n",
      " 27  total_pymnt_inv       36800 non-null  float64\n",
      " 28  last_pymnt_amnt       36800 non-null  float64\n",
      " 29  pub_rec_bankruptcies  36800 non-null  float64\n",
      "dtypes: float64(8), int64(8), object(14)\n",
      "memory usage: 8.7+ MB\n"
     ]
    }
   ],
   "source": [
    "loan_data.info()"
   ]
  },
  {
   "cell_type": "code",
   "execution_count": 34,
   "id": "2fae7955",
   "metadata": {},
   "outputs": [
    {
     "data": {
      "text/plain": [
       "array(['10.65%', '15.27%', '15.96%', '13.49%', '7.90%', '18.64%',\n",
       "       '21.28%', '12.69%', '14.65%', '9.91%', '16.29%', '6.03%', '11.71%',\n",
       "       '12.42%', '14.27%', '16.77%', '7.51%', '8.90%', '18.25%', '6.62%',\n",
       "       '19.91%', '17.27%', '17.58%', '21.67%', '19.42%', '20.89%',\n",
       "       '20.30%', '23.91%', '19.03%', '23.13%', '22.74%', '22.35%',\n",
       "       '22.06%', '24.11%', '6.00%', '23.52%', '22.11%', '7.49%', '11.99%',\n",
       "       '5.99%', '10.99%', '9.99%', '18.79%', '11.49%', '15.99%', '16.49%',\n",
       "       '6.99%', '12.99%', '15.23%', '14.79%', '5.42%', '8.49%', '10.59%',\n",
       "       '17.49%', '15.62%', '19.29%', '13.99%', '18.39%', '16.89%',\n",
       "       '17.99%', '20.99%', '22.85%', '19.69%', '20.62%', '20.25%',\n",
       "       '21.36%', '23.22%', '21.74%', '22.48%', '23.59%', '12.62%',\n",
       "       '18.07%', '11.63%', '7.91%', '7.42%', '11.14%', '20.20%', '12.12%',\n",
       "       '19.39%', '16.11%', '17.54%', '22.64%', '16.59%', '17.19%',\n",
       "       '12.87%', '20.69%', '9.67%', '21.82%', '19.79%', '18.49%',\n",
       "       '13.84%', '22.94%', '24.40%', '21.48%', '14.82%', '7.29%',\n",
       "       '17.88%', '20.11%', '16.02%', '13.43%', '14.91%', '13.06%',\n",
       "       '15.28%', '15.65%', '17.14%', '11.11%', '10.37%', '14.17%',\n",
       "       '16.40%', '17.51%', '7.66%', '10.74%', '5.79%', '6.92%', '10.00%',\n",
       "       '9.63%', '14.54%', '12.68%', '18.62%', '19.36%', '13.80%',\n",
       "       '18.99%', '21.59%', '20.85%', '21.22%', '19.74%', '20.48%',\n",
       "       '6.91%', '12.23%', '12.61%', '10.36%', '6.17%', '6.54%', '9.25%',\n",
       "       '16.69%', '15.95%', '8.88%', '13.35%', '9.62%', '16.32%', '12.98%',\n",
       "       '14.83%', '13.72%', '14.09%', '14.46%', '20.03%', '17.80%',\n",
       "       '15.20%', '15.57%', '18.54%', '19.66%', '17.06%', '18.17%',\n",
       "       '17.43%', '20.40%', '20.77%', '18.91%', '21.14%', '17.44%',\n",
       "       '13.23%', '11.12%', '7.88%', '13.61%', '10.38%', '17.56%',\n",
       "       '17.93%', '15.58%', '13.98%', '14.84%', '15.21%', '6.76%', '6.39%',\n",
       "       '11.86%', '7.14%', '14.35%', '16.82%', '10.75%', '14.72%',\n",
       "       '16.45%', '20.53%', '19.41%', '20.16%', '21.27%', '18.30%',\n",
       "       '18.67%', '19.04%', '20.90%', '21.64%', '12.73%', '10.25%',\n",
       "       '13.11%', '10.62%', '13.48%', '14.59%', '16.07%', '15.70%',\n",
       "       '9.88%', '11.36%', '15.33%', '13.85%', '14.96%', '14.22%', '7.74%',\n",
       "       '13.22%', '13.57%', '8.59%', '17.04%', '14.61%', '8.94%', '12.18%',\n",
       "       '11.83%', '11.48%', '16.35%', '13.92%', '15.31%', '14.26%',\n",
       "       '19.13%', '12.53%', '16.70%', '16.00%', '17.39%', '18.09%',\n",
       "       '7.40%', '18.43%', '17.74%', '7.05%', '20.52%', '20.86%', '19.47%',\n",
       "       '18.78%', '21.21%', '19.82%', '20.17%', '13.16%', '8.00%',\n",
       "       '13.47%', '12.21%', '16.63%', '9.32%', '12.84%', '11.26%',\n",
       "       '15.68%', '15.37%', '10.95%', '11.89%', '14.11%', '13.79%',\n",
       "       '7.68%', '11.58%', '7.37%', '16.95%', '15.05%', '18.53%', '14.74%',\n",
       "       '14.42%', '18.21%', '17.26%', '18.84%', '17.90%', '19.16%',\n",
       "       '13.67%', '9.38%', '12.72%', '13.36%', '11.46%', '10.51%', '9.07%',\n",
       "       '13.04%', '11.78%', '12.41%', '10.83%', '12.09%', '17.46%',\n",
       "       '14.30%', '17.15%', '15.25%', '10.20%', '15.88%', '14.93%',\n",
       "       '16.20%', '18.72%', '14.62%', '8.32%', '14.12%', '10.96%',\n",
       "       '10.33%', '10.01%', '12.86%', '11.28%', '11.59%', '8.63%',\n",
       "       '12.54%', '12.22%', '11.91%', '15.38%', '16.96%', '9.70%',\n",
       "       '16.33%', '14.75%', '13.17%', '15.07%', '16.01%', '10.71%',\n",
       "       '10.64%', '9.76%', '11.34%', '10.39%', '13.87%', '11.03%',\n",
       "       '11.66%', '13.24%', '10.08%', '9.45%', '13.55%', '12.29%',\n",
       "       '11.97%', '12.92%', '15.45%', '14.50%', '14.18%', '15.13%',\n",
       "       '16.08%', '15.76%', '17.03%', '10.46%', '13.93%', '10.78%',\n",
       "       '9.51%', '12.36%', '13.30%', '9.83%', '9.01%', '10.91%', '10.28%',\n",
       "       '12.49%', '11.22%'], dtype=object)"
      ]
     },
     "execution_count": 34,
     "metadata": {},
     "output_type": "execute_result"
    }
   ],
   "source": [
    "loan_data.int_rate.unique()"
   ]
  },
  {
   "cell_type": "markdown",
   "id": "20471eab",
   "metadata": {},
   "source": [
    "As we can see above, the int_rate column is in the form of object appended with '%', we can remove it and convert to float, so that it can be used for our analysis"
   ]
  },
  {
   "cell_type": "code",
   "execution_count": 35,
   "id": "762b0ec6",
   "metadata": {},
   "outputs": [],
   "source": [
    "loan_data.int_rate=loan_data.int_rate.apply(lambda x:float(str(x).rstrip('%')))"
   ]
  },
  {
   "cell_type": "code",
   "execution_count": 36,
   "id": "853fb547",
   "metadata": {},
   "outputs": [
    {
     "data": {
      "text/plain": [
       "array([10.65, 15.27, 15.96, 13.49,  7.9 , 18.64, 21.28, 12.69, 14.65,\n",
       "        9.91, 16.29,  6.03, 11.71, 12.42, 14.27, 16.77,  7.51,  8.9 ,\n",
       "       18.25,  6.62, 19.91, 17.27, 17.58, 21.67, 19.42, 20.89, 20.3 ,\n",
       "       23.91, 19.03, 23.13, 22.74, 22.35, 22.06, 24.11,  6.  , 23.52,\n",
       "       22.11,  7.49, 11.99,  5.99, 10.99,  9.99, 18.79, 11.49, 15.99,\n",
       "       16.49,  6.99, 12.99, 15.23, 14.79,  5.42,  8.49, 10.59, 17.49,\n",
       "       15.62, 19.29, 13.99, 18.39, 16.89, 17.99, 20.99, 22.85, 19.69,\n",
       "       20.62, 20.25, 21.36, 23.22, 21.74, 22.48, 23.59, 12.62, 18.07,\n",
       "       11.63,  7.91,  7.42, 11.14, 20.2 , 12.12, 19.39, 16.11, 17.54,\n",
       "       22.64, 16.59, 17.19, 12.87, 20.69,  9.67, 21.82, 19.79, 18.49,\n",
       "       13.84, 22.94, 24.4 , 21.48, 14.82,  7.29, 17.88, 20.11, 16.02,\n",
       "       13.43, 14.91, 13.06, 15.28, 15.65, 17.14, 11.11, 10.37, 14.17,\n",
       "       16.4 , 17.51,  7.66, 10.74,  5.79,  6.92, 10.  ,  9.63, 14.54,\n",
       "       12.68, 18.62, 19.36, 13.8 , 18.99, 21.59, 20.85, 21.22, 19.74,\n",
       "       20.48,  6.91, 12.23, 12.61, 10.36,  6.17,  6.54,  9.25, 16.69,\n",
       "       15.95,  8.88, 13.35,  9.62, 16.32, 12.98, 14.83, 13.72, 14.09,\n",
       "       14.46, 20.03, 17.8 , 15.2 , 15.57, 18.54, 19.66, 17.06, 18.17,\n",
       "       17.43, 20.4 , 20.77, 18.91, 21.14, 17.44, 13.23, 11.12,  7.88,\n",
       "       13.61, 10.38, 17.56, 17.93, 15.58, 13.98, 14.84, 15.21,  6.76,\n",
       "        6.39, 11.86,  7.14, 14.35, 16.82, 10.75, 14.72, 16.45, 20.53,\n",
       "       19.41, 20.16, 21.27, 18.3 , 18.67, 19.04, 20.9 , 21.64, 12.73,\n",
       "       10.25, 13.11, 10.62, 13.48, 14.59, 16.07, 15.7 ,  9.88, 11.36,\n",
       "       15.33, 13.85, 14.96, 14.22,  7.74, 13.22, 13.57,  8.59, 17.04,\n",
       "       14.61,  8.94, 12.18, 11.83, 11.48, 16.35, 13.92, 15.31, 14.26,\n",
       "       19.13, 12.53, 16.7 , 16.  , 17.39, 18.09,  7.4 , 18.43, 17.74,\n",
       "        7.05, 20.52, 20.86, 19.47, 18.78, 21.21, 19.82, 20.17, 13.16,\n",
       "        8.  , 13.47, 12.21, 16.63,  9.32, 12.84, 11.26, 15.68, 15.37,\n",
       "       10.95, 11.89, 14.11, 13.79,  7.68, 11.58,  7.37, 16.95, 15.05,\n",
       "       18.53, 14.74, 14.42, 18.21, 17.26, 18.84, 17.9 , 19.16, 13.67,\n",
       "        9.38, 12.72, 13.36, 11.46, 10.51,  9.07, 13.04, 11.78, 12.41,\n",
       "       10.83, 12.09, 17.46, 14.3 , 17.15, 15.25, 10.2 , 15.88, 14.93,\n",
       "       16.2 , 18.72, 14.62,  8.32, 14.12, 10.96, 10.33, 10.01, 12.86,\n",
       "       11.28, 11.59,  8.63, 12.54, 12.22, 11.91, 15.38, 16.96,  9.7 ,\n",
       "       16.33, 14.75, 13.17, 15.07, 16.01, 10.71, 10.64,  9.76, 11.34,\n",
       "       10.39, 13.87, 11.03, 11.66, 13.24, 10.08,  9.45, 13.55, 12.29,\n",
       "       11.97, 12.92, 15.45, 14.5 , 14.18, 15.13, 16.08, 15.76, 17.03,\n",
       "       10.46, 13.93, 10.78,  9.51, 12.36, 13.3 ,  9.83,  9.01, 10.91,\n",
       "       10.28, 12.49, 11.22])"
      ]
     },
     "execution_count": 36,
     "metadata": {},
     "output_type": "execute_result"
    }
   ],
   "source": [
    "loan_data.int_rate.unique()"
   ]
  },
  {
   "cell_type": "markdown",
   "id": "335a590a",
   "metadata": {},
   "source": [
    "int_rate is now standardized to float for statistical computation."
   ]
  },
  {
   "cell_type": "code",
   "execution_count": 37,
   "id": "4fe5b88c",
   "metadata": {},
   "outputs": [
    {
     "name": "stdout",
     "output_type": "stream",
     "text": [
      "<class 'pandas.core.frame.DataFrame'>\n",
      "Int64Index: 36800 entries, 0 to 39680\n",
      "Data columns (total 30 columns):\n",
      " #   Column                Non-Null Count  Dtype  \n",
      "---  ------                --------------  -----  \n",
      " 0   loan_amnt             36800 non-null  int64  \n",
      " 1   funded_amnt           36800 non-null  int64  \n",
      " 2   funded_amnt_inv       36800 non-null  float64\n",
      " 3   term                  36800 non-null  object \n",
      " 4   int_rate              36800 non-null  float64\n",
      " 5   installment           36800 non-null  float64\n",
      " 6   grade                 36800 non-null  object \n",
      " 7   sub_grade             36800 non-null  object \n",
      " 8   emp_length            36800 non-null  object \n",
      " 9   home_ownership        36800 non-null  object \n",
      " 10  annual_inc            36800 non-null  float64\n",
      " 11  verification_status   36800 non-null  object \n",
      " 12  issue_d               36800 non-null  object \n",
      " 13  loan_status           36800 non-null  object \n",
      " 14  purpose               36800 non-null  object \n",
      " 15  zip_code              36800 non-null  object \n",
      " 16  addr_state            36800 non-null  object \n",
      " 17  dti                   36800 non-null  float64\n",
      " 18  delinq_2yrs           36800 non-null  int64  \n",
      " 19  earliest_cr_line      36800 non-null  object \n",
      " 20  inq_last_6mths        36800 non-null  int64  \n",
      " 21  open_acc              36800 non-null  int64  \n",
      " 22  pub_rec               36800 non-null  int64  \n",
      " 23  revol_bal             36800 non-null  int64  \n",
      " 24  revol_util            36800 non-null  object \n",
      " 25  total_acc             36800 non-null  int64  \n",
      " 26  total_pymnt           36800 non-null  float64\n",
      " 27  total_pymnt_inv       36800 non-null  float64\n",
      " 28  last_pymnt_amnt       36800 non-null  float64\n",
      " 29  pub_rec_bankruptcies  36800 non-null  float64\n",
      "dtypes: float64(9), int64(8), object(13)\n",
      "memory usage: 8.7+ MB\n"
     ]
    }
   ],
   "source": [
    "loan_data.info()"
   ]
  },
  {
   "cell_type": "code",
   "execution_count": 38,
   "id": "796f0bb8",
   "metadata": {},
   "outputs": [
    {
     "data": {
      "text/plain": [
       "array(['Dec-11', 'Nov-11', 'Oct-11', 'Sep-11', 'Aug-11', 'Jul-11',\n",
       "       'Jun-11', 'May-11', 'Apr-11', 'Mar-11', 'Feb-11', 'Jan-11',\n",
       "       'Dec-10', 'Nov-10', 'Oct-10', 'Sep-10', 'Aug-10', 'Jul-10',\n",
       "       'Jun-10', 'May-10', 'Apr-10', 'Mar-10', 'Feb-10', 'Jan-10',\n",
       "       'Dec-09', 'Nov-09', 'Oct-09', 'Sep-09', 'Aug-09', 'Jul-09',\n",
       "       'Jun-09', 'May-09', 'Apr-09', 'Mar-09', 'Feb-09', 'Jan-09',\n",
       "       'Dec-08', 'Nov-08', 'Oct-08', 'Sep-08', 'Aug-08', 'Jul-08',\n",
       "       'Jun-08', 'May-08', 'Apr-08', 'Mar-08', 'Feb-08', 'Jan-08',\n",
       "       'Dec-07', 'Nov-07', 'Oct-07', 'Aug-07'], dtype=object)"
      ]
     },
     "execution_count": 38,
     "metadata": {},
     "output_type": "execute_result"
    }
   ],
   "source": [
    "loan_data.issue_d.unique()"
   ]
  },
  {
   "cell_type": "markdown",
   "id": "3dd2fe50",
   "metadata": {},
   "source": [
    "As we can see above, the column \"issue_d\" which is the combination of month and date can be split into two separate columns for month and year.\n",
    "And the original column can be removed."
   ]
  },
  {
   "cell_type": "code",
   "execution_count": 39,
   "id": "44e8ab5f",
   "metadata": {},
   "outputs": [],
   "source": [
    "month_num_dict = {\"Jan\":1,\"Feb\":2,\"Mar\":3,\"Apr\":4,\"May\":5,\"Jun\":6,\"Jul\":7,\"Aug\":8,\"Sep\":9,\"Oct\":10,\"Nov\":11,\"Dec\":12}\n",
    "\n",
    "loan_data['issue_id_month']=loan_data.issue_d.apply(lambda x:str(x).split('-')[0])\n",
    "loan_data['issue_id_year']=loan_data.issue_d.apply(lambda x:int(str(x).split('-')[1]))\n",
    "loan_data['issue_id_month_number']=loan_data.issue_id_month.apply(lambda x : month_num_dict[x])"
   ]
  },
  {
   "cell_type": "code",
   "execution_count": 40,
   "id": "03bf2078",
   "metadata": {},
   "outputs": [],
   "source": [
    "loan_data.drop(columns=[\"issue_d\"],inplace=True)"
   ]
  },
  {
   "cell_type": "code",
   "execution_count": 41,
   "id": "60756c8f",
   "metadata": {},
   "outputs": [
    {
     "name": "stdout",
     "output_type": "stream",
     "text": [
      "<class 'pandas.core.frame.DataFrame'>\n",
      "Int64Index: 36800 entries, 0 to 39680\n",
      "Data columns (total 32 columns):\n",
      " #   Column                 Non-Null Count  Dtype  \n",
      "---  ------                 --------------  -----  \n",
      " 0   loan_amnt              36800 non-null  int64  \n",
      " 1   funded_amnt            36800 non-null  int64  \n",
      " 2   funded_amnt_inv        36800 non-null  float64\n",
      " 3   term                   36800 non-null  object \n",
      " 4   int_rate               36800 non-null  float64\n",
      " 5   installment            36800 non-null  float64\n",
      " 6   grade                  36800 non-null  object \n",
      " 7   sub_grade              36800 non-null  object \n",
      " 8   emp_length             36800 non-null  object \n",
      " 9   home_ownership         36800 non-null  object \n",
      " 10  annual_inc             36800 non-null  float64\n",
      " 11  verification_status    36800 non-null  object \n",
      " 12  loan_status            36800 non-null  object \n",
      " 13  purpose                36800 non-null  object \n",
      " 14  zip_code               36800 non-null  object \n",
      " 15  addr_state             36800 non-null  object \n",
      " 16  dti                    36800 non-null  float64\n",
      " 17  delinq_2yrs            36800 non-null  int64  \n",
      " 18  earliest_cr_line       36800 non-null  object \n",
      " 19  inq_last_6mths         36800 non-null  int64  \n",
      " 20  open_acc               36800 non-null  int64  \n",
      " 21  pub_rec                36800 non-null  int64  \n",
      " 22  revol_bal              36800 non-null  int64  \n",
      " 23  revol_util             36800 non-null  object \n",
      " 24  total_acc              36800 non-null  int64  \n",
      " 25  total_pymnt            36800 non-null  float64\n",
      " 26  total_pymnt_inv        36800 non-null  float64\n",
      " 27  last_pymnt_amnt        36800 non-null  float64\n",
      " 28  pub_rec_bankruptcies   36800 non-null  float64\n",
      " 29  issue_id_month         36800 non-null  object \n",
      " 30  issue_id_year          36800 non-null  int64  \n",
      " 31  issue_id_month_number  36800 non-null  int64  \n",
      "dtypes: float64(9), int64(10), object(13)\n",
      "memory usage: 9.3+ MB\n"
     ]
    }
   ],
   "source": [
    "loan_data.info()"
   ]
  },
  {
   "cell_type": "code",
   "execution_count": 42,
   "id": "8f3f8fb5",
   "metadata": {},
   "outputs": [
    {
     "data": {
      "text/plain": [
       "array(['Jan-85', 'Apr-99', 'Nov-01', 'Feb-96', 'Nov-04', 'Jul-05',\n",
       "       'Jan-07', 'Apr-04', 'Sep-04', 'Jan-98', 'Oct-89', 'Jul-03',\n",
       "       'May-91', 'Sep-07', 'Oct-98', 'Aug-93', 'Oct-03', 'Jan-01',\n",
       "       'Nov-97', 'Feb-83', 'Jul-85', 'Apr-03', 'Jun-01', 'Feb-02',\n",
       "       'Aug-84', 'Nov-06', 'Dec-87', 'Nov-81', 'Apr-05', 'Oct-07',\n",
       "       'Dec-00', 'Apr-07', 'Jan-03', 'Mar-94', 'Sep-98', 'Jun-04',\n",
       "       'Nov-95', 'Jul-99', 'Jun-95', 'Sep-92', 'Jan-02', 'Apr-92',\n",
       "       'Oct-06', 'May-00', 'Dec-98', 'Dec-04', 'Oct-00', 'May-02',\n",
       "       'May-06', 'Jul-02', 'Jul-06', 'May-97', 'Oct-05', 'Apr-95',\n",
       "       'Oct-02', 'Jan-00', 'Apr-00', 'Dec-94', 'Sep-05', 'Dec-84',\n",
       "       'Dec-99', 'Nov-03', 'Jun-89', 'Jun-03', 'Oct-96', 'May-03',\n",
       "       'Jun-02', 'Jun-07', 'Dec-96', 'Sep-02', 'Jan-86', 'May-98',\n",
       "       'Jan-97', 'Jun-05', 'Feb-90', 'Mar-04', 'Jul-95', 'Aug-94',\n",
       "       'Jun-92', 'Mar-97', 'Apr-06', 'Apr-90', 'Aug-99', 'Sep-00',\n",
       "       'Feb-01', 'Dec-88', 'Feb-99', 'Dec-91', 'Aug-00', 'Oct-04',\n",
       "       'Aug-04', 'Feb-05', 'Nov-05', 'Nov-00', 'May-07', 'Jan-91',\n",
       "       'Jun-00', 'Aug-06', 'Dec-02', 'Jun-93', 'Jun-06', 'Feb-04',\n",
       "       'Dec-90', 'Mar-00', 'Feb-95', 'Jul-01', 'Apr-02', 'Dec-01',\n",
       "       'Sep-06', 'May-99', 'Aug-98', 'Dec-05', 'May-04', 'Oct-01',\n",
       "       'Jun-83', 'Mar-86', 'Apr-80', 'Jul-04', 'Jul-08', 'May-96',\n",
       "       'Jan-04', 'Nov-02', 'Aug-02', 'Aug-01', 'Mar-91', 'Sep-89',\n",
       "       'Sep-94', 'Sep-03', 'Sep-99', 'Aug-05', 'Dec-86', 'Nov-98',\n",
       "       'Feb-06', 'May-94', 'Nov-07', 'Feb-93', 'Nov-91', 'May-05',\n",
       "       'Mar-90', 'Mar-96', 'Oct-79', 'Jun-81', 'Mar-01', 'Apr-01',\n",
       "       'Jun-99', 'Nov-93', 'Jan-06', 'Dec-97', 'Nov-94', 'Jul-97',\n",
       "       'Oct-91', 'Jun-94', 'Mar-06', 'Sep-96', 'Apr-91', 'Jul-93',\n",
       "       'Jan-95', 'Sep-87', 'Mar-03', 'Oct-99', 'Jul-96', 'Dec-03',\n",
       "       'Aug-88', 'Mar-98', 'Feb-07', 'Dec-92', 'Jul-98', 'Jul-89',\n",
       "       'May-90', 'Jul-94', 'Sep-01', 'Mar-84', 'Nov-99', 'Mar-07',\n",
       "       'Mar-08', 'Apr-94', 'Jan-05', 'Jul-86', 'Aug-90', 'May-92',\n",
       "       'Jul-00', 'Mar-88', 'May-83', 'Jul-78', 'Mar-95', 'Feb-00',\n",
       "       'Mar-92', 'Jan-81', 'Sep-90', 'Apr-93', 'Jun-98', 'May-93',\n",
       "       'May-01', 'Nov-96', 'Feb-97', 'Jan-92', 'Mar-02', 'Jan-88',\n",
       "       'Aug-97', 'Aug-87', 'Aug-08', 'Oct-94', 'Feb-94', 'Jun-96',\n",
       "       'Feb-98', 'Nov-08', 'Apr-98', 'Jan-93', 'May-87', 'Jul-71',\n",
       "       'Aug-07', 'Jun-97', 'Mar-80', 'Dec-06', 'Jul-07', 'Oct-95',\n",
       "       'Jan-96', 'Jul-91', 'Jul-92', 'Dec-72', 'Dec-93', 'Jan-99',\n",
       "       'Feb-03', 'Apr-97', 'Dec-95', 'Mar-70', 'Nov-84', 'Apr-84',\n",
       "       'Jul-84', 'Aug-95', 'Mar-99', 'Sep-88', 'Mar-89', 'Mar-87',\n",
       "       'Oct-97', 'Dec-80', 'Jan-94', 'Jul-90', 'Aug-03', 'Mar-05',\n",
       "       'Jan-89', 'Apr-96', 'Oct-86', 'Feb-92', 'Jan-90', 'Nov-90',\n",
       "       'Mar-69', 'Jun-75', 'Mar-85', 'Dec-07', 'Sep-95', 'Oct-93',\n",
       "       'Dec-89', 'Sep-80', 'Jun-88', 'May-78', 'Aug-89', 'Oct-90',\n",
       "       'Sep-91', 'Feb-87', 'Nov-85', 'Jan-84', 'Jul-88', 'May-08',\n",
       "       'Oct-85', 'Mar-83', 'Aug-91', 'Jun-90', 'Feb-86', 'Jun-84',\n",
       "       'Sep-81', 'Apr-86', 'Aug-79', 'Aug-80', 'Nov-92', 'Sep-93',\n",
       "       'Jun-87', 'Feb-84', 'Aug-92', 'Aug-85', 'Jul-83', 'Dec-83',\n",
       "       'Jan-87', 'Aug-96', 'Sep-76', 'Nov-86', 'Oct-87', 'Sep-08',\n",
       "       'May-77', 'May-86', 'Mar-81', 'Jan-83', 'Sep-79', 'Oct-83',\n",
       "       'Nov-89', 'Jun-85', 'May-82', 'Feb-88', 'Oct-92', 'Aug-83',\n",
       "       'Sep-97', 'Apr-85', 'Oct-88', 'Oct-81', 'Sep-68', 'Jul-74',\n",
       "       'Jul-79', 'Nov-87', 'May-95', 'Feb-91', 'Mar-93', 'Jun-08',\n",
       "       'Jul-80', 'Dec-82', 'Oct-84', 'Feb-80', 'Nov-88', 'Apr-88',\n",
       "       'Sep-85', 'Sep-71', 'Mar-78', 'Feb-08', 'Jun-79', 'Jun-80',\n",
       "       'Apr-89', 'Sep-83', 'Feb-89', 'Aug-86', 'Oct-80', 'May-88',\n",
       "       'Dec-85', 'Jan-82', 'Sep-77', 'Sep-86', 'Dec-76', 'Apr-82',\n",
       "       'Apr-08', 'Feb-79', 'Jan-08', 'Jul-87', 'May-89', 'Oct-77',\n",
       "       'Dec-75', 'Oct-08', 'Feb-85', 'May-75', 'May-85', 'Feb-71',\n",
       "       'Jun-77', 'Dec-81', 'Apr-81', 'May-79', 'Feb-82', 'Jan-72',\n",
       "       'Jun-86', 'Sep-67', 'Apr-78', 'Feb-65', 'Nov-75', 'Jun-67',\n",
       "       'Dec-79', 'Aug-67', 'Apr-71', 'Sep-84', 'Aug-82', 'May-81',\n",
       "       'May-84', 'Dec-70', 'Oct-73', 'Jan-71', 'Apr-74', 'Jan-80',\n",
       "       'Apr-75', 'Mar-77', 'Nov-69', 'Jan-76', 'Nov-83', 'Apr-87',\n",
       "       'Nov-82', 'May-74', 'Aug-74', 'Jun-91', 'Jun-72', 'Mar-63',\n",
       "       'Aug-69', 'Jul-72', 'Aug-75', 'Sep-82', 'Sep-74', 'Aug-81',\n",
       "       'Nov-76', 'Mar-73', 'Dec-77', 'Oct-76', 'Jan-74', 'Jan-70',\n",
       "       'Aug-68', 'Apr-83', 'Oct-82', 'Jan-75', 'Dec-74', 'Feb-73',\n",
       "       'Jun-82', 'Jun-74', 'May-65', 'Apr-76', 'Oct-71', 'Apr-77',\n",
       "       'Oct-78', 'Feb-81', 'Jan-77', 'Aug-77', 'Dec-78', 'Aug-76',\n",
       "       'Jun-68', 'Jan-78', 'Dec-73', 'Sep-78', 'Nov-70', 'Nov-78',\n",
       "       'May-80', 'Jan-79', 'Oct-65', 'Nov-74', 'Apr-66', 'Feb-72',\n",
       "       'Mar-76', 'Sep-73', 'Aug-78', 'Mar-79', 'Jul-76', 'Jul-82',\n",
       "       'Apr-73', 'Apr-67', 'Oct-72', 'Mar-75', 'Mar-82', 'Oct-63',\n",
       "       'Feb-70', 'Jul-73', 'Feb-78', 'Nov-71', 'Jun-76', 'Aug-72',\n",
       "       'Jul-77', 'Jul-75', 'Sep-70', 'Jul-81', 'Sep-72', 'Nov-80',\n",
       "       'Sep-62', 'Apr-70', 'Nov-77', 'Nov-66', 'Jun-78', 'May-71',\n",
       "       'May-70', 'Apr-79', 'May-73', 'Oct-70', 'Feb-75', 'Mar-74',\n",
       "       'Sep-56', 'Jan-46', 'Dec-50', 'Mar-66', 'Jul-69', 'Jan-68',\n",
       "       'Nov-73', 'Jun-70', 'Feb-77', 'Feb-68', 'Feb-74', 'Jun-69',\n",
       "       'Feb-66', 'Sep-64', 'May-76', 'Aug-73', 'Aug-70', 'Jun-73',\n",
       "       'Dec-68', 'Feb-76', 'Sep-75', 'Sep-69', 'Nov-54', 'Mar-72',\n",
       "       'Jan-73', 'Nov-79', 'Dec-65', 'Apr-72', 'Nov-72', 'Nov-67',\n",
       "       'Sep-63', 'Dec-69', 'Apr-69', 'Nov-62', 'Jul-70', 'Jan-63',\n",
       "       'Oct-67', 'May-67', 'Feb-67', 'Jun-71', 'Nov-68', 'Oct-75',\n",
       "       'Mar-71', 'Apr-64', 'Feb-69', 'Aug-71', 'Jul-67', 'Dec-66',\n",
       "       'Oct-68', 'Oct-74', 'May-72'], dtype=object)"
      ]
     },
     "execution_count": 42,
     "metadata": {},
     "output_type": "execute_result"
    }
   ],
   "source": [
    "loan_data.earliest_cr_line.unique()"
   ]
  },
  {
   "cell_type": "markdown",
   "id": "9a1bb981",
   "metadata": {},
   "source": [
    "As we can see above, the column \"earliest_cr_line\" which is the combination of month and year can be split into two separate columns for date and month.\n",
    "And the original column can be removed."
   ]
  },
  {
   "cell_type": "code",
   "execution_count": 43,
   "id": "f6a35418",
   "metadata": {},
   "outputs": [],
   "source": [
    "loan_data['earliest_cr_line_month']=loan_data.earliest_cr_line.apply(lambda x:str(x).split('-')[0])\n",
    "loan_data['earliest_cr_line_year']=loan_data.earliest_cr_line.apply(lambda x:int(str(x).split('-')[1]))"
   ]
  },
  {
   "cell_type": "code",
   "execution_count": 44,
   "id": "427e7dfb",
   "metadata": {},
   "outputs": [],
   "source": [
    "loan_data.drop(columns=[\"earliest_cr_line\"],inplace=True)"
   ]
  },
  {
   "cell_type": "code",
   "execution_count": 45,
   "id": "f6e958f0",
   "metadata": {},
   "outputs": [
    {
     "name": "stdout",
     "output_type": "stream",
     "text": [
      "<class 'pandas.core.frame.DataFrame'>\n",
      "Int64Index: 36800 entries, 0 to 39680\n",
      "Data columns (total 33 columns):\n",
      " #   Column                  Non-Null Count  Dtype  \n",
      "---  ------                  --------------  -----  \n",
      " 0   loan_amnt               36800 non-null  int64  \n",
      " 1   funded_amnt             36800 non-null  int64  \n",
      " 2   funded_amnt_inv         36800 non-null  float64\n",
      " 3   term                    36800 non-null  object \n",
      " 4   int_rate                36800 non-null  float64\n",
      " 5   installment             36800 non-null  float64\n",
      " 6   grade                   36800 non-null  object \n",
      " 7   sub_grade               36800 non-null  object \n",
      " 8   emp_length              36800 non-null  object \n",
      " 9   home_ownership          36800 non-null  object \n",
      " 10  annual_inc              36800 non-null  float64\n",
      " 11  verification_status     36800 non-null  object \n",
      " 12  loan_status             36800 non-null  object \n",
      " 13  purpose                 36800 non-null  object \n",
      " 14  zip_code                36800 non-null  object \n",
      " 15  addr_state              36800 non-null  object \n",
      " 16  dti                     36800 non-null  float64\n",
      " 17  delinq_2yrs             36800 non-null  int64  \n",
      " 18  inq_last_6mths          36800 non-null  int64  \n",
      " 19  open_acc                36800 non-null  int64  \n",
      " 20  pub_rec                 36800 non-null  int64  \n",
      " 21  revol_bal               36800 non-null  int64  \n",
      " 22  revol_util              36800 non-null  object \n",
      " 23  total_acc               36800 non-null  int64  \n",
      " 24  total_pymnt             36800 non-null  float64\n",
      " 25  total_pymnt_inv         36800 non-null  float64\n",
      " 26  last_pymnt_amnt         36800 non-null  float64\n",
      " 27  pub_rec_bankruptcies    36800 non-null  float64\n",
      " 28  issue_id_month          36800 non-null  object \n",
      " 29  issue_id_year           36800 non-null  int64  \n",
      " 30  issue_id_month_number   36800 non-null  int64  \n",
      " 31  earliest_cr_line_month  36800 non-null  object \n",
      " 32  earliest_cr_line_year   36800 non-null  int64  \n",
      "dtypes: float64(9), int64(11), object(13)\n",
      "memory usage: 9.5+ MB\n"
     ]
    }
   ],
   "source": [
    "loan_data.info()"
   ]
  },
  {
   "cell_type": "code",
   "execution_count": 46,
   "id": "7ed14509",
   "metadata": {},
   "outputs": [
    {
     "data": {
      "text/plain": [
       "array(['83.70%', '9.40%', '98.50%', ..., '49.63%', '0.04%', '7.28%'],\n",
       "      dtype=object)"
      ]
     },
     "execution_count": 46,
     "metadata": {},
     "output_type": "execute_result"
    }
   ],
   "source": [
    "loan_data.revol_util.unique()"
   ]
  },
  {
   "cell_type": "markdown",
   "id": "21aa8dae",
   "metadata": {},
   "source": [
    "As we can see above, the revol_util column is in the form of object appended with '%', we can remove it and convert to float, so that it can be used for our analysis"
   ]
  },
  {
   "cell_type": "code",
   "execution_count": 47,
   "id": "2d220c5e",
   "metadata": {},
   "outputs": [],
   "source": [
    "loan_data.revol_util=loan_data.revol_util.apply(lambda x:float(str(x).rstrip('%')))"
   ]
  },
  {
   "cell_type": "code",
   "execution_count": 48,
   "id": "87db0be4",
   "metadata": {},
   "outputs": [
    {
     "data": {
      "text/plain": [
       "array([8.370e+01, 9.400e+00, 9.850e+01, ..., 4.963e+01, 4.000e-02,\n",
       "       7.280e+00])"
      ]
     },
     "execution_count": 48,
     "metadata": {},
     "output_type": "execute_result"
    }
   ],
   "source": [
    "loan_data.revol_util.unique()"
   ]
  },
  {
   "cell_type": "code",
   "execution_count": 49,
   "id": "29333cbc",
   "metadata": {},
   "outputs": [
    {
     "data": {
      "text/plain": [
       "array(['10+ years', '< 1 year', '3 years', '8 years', '9 years',\n",
       "       '4 years', '5 years', '1 year', '6 years', '2 years', '7 years'],\n",
       "      dtype=object)"
      ]
     },
     "execution_count": 49,
     "metadata": {},
     "output_type": "execute_result"
    }
   ],
   "source": [
    "loan_data.emp_length.unique()"
   ]
  },
  {
   "cell_type": "markdown",
   "id": "68be5d83",
   "metadata": {},
   "source": [
    "As we see above, emp_length does not contain data in numeric format, we can convert it to numeric format so that it can be helpful for us in further analysis."
   ]
  },
  {
   "cell_type": "code",
   "execution_count": 50,
   "id": "eb20a795",
   "metadata": {},
   "outputs": [],
   "source": [
    "import re\n",
    "loan_data.emp_length=loan_data.emp_length.apply(lambda x:str(x).replace(\"< 1 year\",\"0\"))\n",
    "loan_data.emp_length=loan_data.emp_length.apply(lambda x:int(re.findall(r'\\d+', str(x))[0]))"
   ]
  },
  {
   "cell_type": "code",
   "execution_count": 51,
   "id": "8fe4119d",
   "metadata": {},
   "outputs": [
    {
     "data": {
      "text/plain": [
       "array([10,  0,  3,  8,  9,  4,  5,  1,  6,  2,  7], dtype=int64)"
      ]
     },
     "execution_count": 51,
     "metadata": {},
     "output_type": "execute_result"
    }
   ],
   "source": [
    "loan_data.emp_length.unique()"
   ]
  },
  {
   "cell_type": "markdown",
   "id": "7619ab8f",
   "metadata": {},
   "source": [
    "Let us now detect outliers.\n",
    "Let us consider loan_amnt first."
   ]
  },
  {
   "cell_type": "code",
   "execution_count": 52,
   "id": "2ccee49b",
   "metadata": {},
   "outputs": [
    {
     "data": {
      "image/png": "[encoded data removed]",
      "text/plain": [
       "<Figure size 640x480 with 1 Axes>"
      ]
     },
     "metadata": {},
     "output_type": "display_data"
    }
   ],
   "source": [
    "plt.boxplot(loan_data.loan_amnt)\n",
    "plt.show()"
   ]
  },
  {
   "cell_type": "markdown",
   "id": "54629ae0",
   "metadata": {},
   "source": [
    "From the above boxplot, we can see there are some outliers above 30000. Let us remove them."
   ]
  },
  {
   "cell_type": "code",
   "execution_count": 53,
   "id": "03dd008e",
   "metadata": {},
   "outputs": [],
   "source": [
    "loan_data=loan_data[loan_data.loan_amnt<30000]"
   ]
  },
  {
   "cell_type": "code",
   "execution_count": 54,
   "id": "33b241fc",
   "metadata": {},
   "outputs": [
    {
     "data": {
      "image/png": "[encoded data removed]",
      "text/plain": [
       "<Figure size 640x480 with 1 Axes>"
      ]
     },
     "metadata": {},
     "output_type": "display_data"
    }
   ],
   "source": [
    "plt.boxplot(loan_data.loan_amnt)\n",
    "plt.show()"
   ]
  },
  {
   "cell_type": "markdown",
   "id": "5f1d75fe",
   "metadata": {},
   "source": [
    "As we can see outliers are removed."
   ]
  },
  {
   "cell_type": "markdown",
   "id": "d57a355b",
   "metadata": {},
   "source": [
    "Let us consider int_rate"
   ]
  },
  {
   "cell_type": "code",
   "execution_count": 55,
   "id": "b076f6e8",
   "metadata": {},
   "outputs": [
    {
     "data": {
      "image/png": "[encoded data removed]",
      "text/plain": [
       "<Figure size 640x480 with 1 Axes>"
      ]
     },
     "metadata": {},
     "output_type": "display_data"
    }
   ],
   "source": [
    "plt.boxplot(loan_data.int_rate)\n",
    "plt.show()"
   ]
  },
  {
   "cell_type": "markdown",
   "id": "eb4c8edf",
   "metadata": {},
   "source": [
    "From the above boxplot, we can see there are outliers. Let us remove them."
   ]
  },
  {
   "cell_type": "code",
   "execution_count": 56,
   "id": "6f95fa58",
   "metadata": {},
   "outputs": [],
   "source": [
    "loan_data=loan_data[loan_data.int_rate<22.5]"
   ]
  },
  {
   "cell_type": "code",
   "execution_count": 57,
   "id": "671b7387",
   "metadata": {},
   "outputs": [
    {
     "data": {
      "image/png": "[encoded data removed]",
      "text/plain": [
       "<Figure size 640x480 with 1 Axes>"
      ]
     },
     "metadata": {},
     "output_type": "display_data"
    }
   ],
   "source": [
    "plt.boxplot(loan_data.int_rate)\n",
    "plt.show()"
   ]
  },
  {
   "cell_type": "markdown",
   "id": "64e7a061",
   "metadata": {},
   "source": [
    "We can see the outliers are removed now for int_rate."
   ]
  },
  {
   "cell_type": "markdown",
   "id": "e37dc458",
   "metadata": {},
   "source": [
    "Let us consider annual_inc"
   ]
  },
  {
   "cell_type": "code",
   "execution_count": 58,
   "id": "c797aad6",
   "metadata": {},
   "outputs": [
    {
     "data": {
      "image/png": "[encoded data removed]",
      "text/plain": [
       "<Figure size 640x480 with 1 Axes>"
      ]
     },
     "metadata": {},
     "output_type": "display_data"
    }
   ],
   "source": [
    "plt.boxplot(loan_data.annual_inc)\n",
    "plt.show()"
   ]
  },
  {
   "cell_type": "markdown",
   "id": "44cdb4df",
   "metadata": {},
   "source": [
    "As we can clearly see there are outliers, let us remove outliers now."
   ]
  },
  {
   "cell_type": "code",
   "execution_count": 59,
   "id": "a306c377",
   "metadata": {},
   "outputs": [],
   "source": [
    "loan_data = loan_data[loan_data.annual_inc<150000]"
   ]
  },
  {
   "cell_type": "code",
   "execution_count": 60,
   "id": "842d9c18",
   "metadata": {},
   "outputs": [
    {
     "data": {
      "image/png": "[encoded data removed]",
      "text/plain": [
       "<Figure size 640x480 with 1 Axes>"
      ]
     },
     "metadata": {},
     "output_type": "display_data"
    }
   ],
   "source": [
    "plt.boxplot(loan_data.annual_inc)\n",
    "plt.show()"
   ]
  },
  {
   "cell_type": "markdown",
   "id": "6ef5f8f1",
   "metadata": {},
   "source": [
    "As we can see from the above boxplot, the outliers are removed."
   ]
  },
  {
   "cell_type": "code",
   "execution_count": 61,
   "id": "44814a7f",
   "metadata": {},
   "outputs": [
    {
     "data": {
      "text/html": [
       "<div>\n",
       "<style scoped>\n",
       "    .dataframe tbody tr th:only-of-type {\n",
       "        vertical-align: middle;\n",
       "    }\n",
       "\n",
       "    .dataframe tbody tr th {\n",
       "        vertical-align: top;\n",
       "    }\n",
       "\n",
       "    .dataframe thead th {\n",
       "        text-align: right;\n",
       "    }\n",
       "</style>\n",
       "<table border=\"1\" class=\"dataframe\">\n",
       "  <thead>\n",
       "    <tr style=\"text-align: right;\">\n",
       "      <th></th>\n",
       "      <th>loan_amnt</th>\n",
       "      <th>funded_amnt</th>\n",
       "      <th>funded_amnt_inv</th>\n",
       "      <th>term</th>\n",
       "      <th>int_rate</th>\n",
       "      <th>installment</th>\n",
       "      <th>grade</th>\n",
       "      <th>sub_grade</th>\n",
       "      <th>emp_length</th>\n",
       "      <th>home_ownership</th>\n",
       "      <th>annual_inc</th>\n",
       "      <th>verification_status</th>\n",
       "      <th>loan_status</th>\n",
       "      <th>purpose</th>\n",
       "      <th>zip_code</th>\n",
       "      <th>addr_state</th>\n",
       "      <th>dti</th>\n",
       "      <th>delinq_2yrs</th>\n",
       "      <th>inq_last_6mths</th>\n",
       "      <th>open_acc</th>\n",
       "      <th>pub_rec</th>\n",
       "      <th>revol_bal</th>\n",
       "      <th>revol_util</th>\n",
       "      <th>total_acc</th>\n",
       "      <th>total_pymnt</th>\n",
       "      <th>total_pymnt_inv</th>\n",
       "      <th>last_pymnt_amnt</th>\n",
       "      <th>pub_rec_bankruptcies</th>\n",
       "      <th>issue_id_month</th>\n",
       "      <th>issue_id_year</th>\n",
       "      <th>issue_id_month_number</th>\n",
       "      <th>earliest_cr_line_month</th>\n",
       "      <th>earliest_cr_line_year</th>\n",
       "    </tr>\n",
       "  </thead>\n",
       "  <tbody>\n",
       "    <tr>\n",
       "      <th>0</th>\n",
       "      <td>5000</td>\n",
       "      <td>5000</td>\n",
       "      <td>4975.0</td>\n",
       "      <td>36 months</td>\n",
       "      <td>10.65</td>\n",
       "      <td>162.87</td>\n",
       "      <td>B</td>\n",
       "      <td>B2</td>\n",
       "      <td>10</td>\n",
       "      <td>RENT</td>\n",
       "      <td>24000.0</td>\n",
       "      <td>Verified</td>\n",
       "      <td>Fully Paid</td>\n",
       "      <td>credit_card</td>\n",
       "      <td>860xx</td>\n",
       "      <td>AZ</td>\n",
       "      <td>27.65</td>\n",
       "      <td>0</td>\n",
       "      <td>1</td>\n",
       "      <td>3</td>\n",
       "      <td>0</td>\n",
       "      <td>13648</td>\n",
       "      <td>83.7</td>\n",
       "      <td>9</td>\n",
       "      <td>5863.155187</td>\n",
       "      <td>5833.84</td>\n",
       "      <td>171.62</td>\n",
       "      <td>0.0</td>\n",
       "      <td>Dec</td>\n",
       "      <td>11</td>\n",
       "      <td>12</td>\n",
       "      <td>Jan</td>\n",
       "      <td>85</td>\n",
       "    </tr>\n",
       "    <tr>\n",
       "      <th>1</th>\n",
       "      <td>2500</td>\n",
       "      <td>2500</td>\n",
       "      <td>2500.0</td>\n",
       "      <td>60 months</td>\n",
       "      <td>15.27</td>\n",
       "      <td>59.83</td>\n",
       "      <td>C</td>\n",
       "      <td>C4</td>\n",
       "      <td>0</td>\n",
       "      <td>RENT</td>\n",
       "      <td>30000.0</td>\n",
       "      <td>Source Verified</td>\n",
       "      <td>Charged Off</td>\n",
       "      <td>car</td>\n",
       "      <td>309xx</td>\n",
       "      <td>GA</td>\n",
       "      <td>1.00</td>\n",
       "      <td>0</td>\n",
       "      <td>5</td>\n",
       "      <td>3</td>\n",
       "      <td>0</td>\n",
       "      <td>1687</td>\n",
       "      <td>9.4</td>\n",
       "      <td>4</td>\n",
       "      <td>1008.710000</td>\n",
       "      <td>1008.71</td>\n",
       "      <td>119.66</td>\n",
       "      <td>0.0</td>\n",
       "      <td>Dec</td>\n",
       "      <td>11</td>\n",
       "      <td>12</td>\n",
       "      <td>Apr</td>\n",
       "      <td>99</td>\n",
       "    </tr>\n",
       "    <tr>\n",
       "      <th>2</th>\n",
       "      <td>2400</td>\n",
       "      <td>2400</td>\n",
       "      <td>2400.0</td>\n",
       "      <td>36 months</td>\n",
       "      <td>15.96</td>\n",
       "      <td>84.33</td>\n",
       "      <td>C</td>\n",
       "      <td>C5</td>\n",
       "      <td>10</td>\n",
       "      <td>RENT</td>\n",
       "      <td>12252.0</td>\n",
       "      <td>Not Verified</td>\n",
       "      <td>Fully Paid</td>\n",
       "      <td>small_business</td>\n",
       "      <td>606xx</td>\n",
       "      <td>IL</td>\n",
       "      <td>8.72</td>\n",
       "      <td>0</td>\n",
       "      <td>2</td>\n",
       "      <td>2</td>\n",
       "      <td>0</td>\n",
       "      <td>2956</td>\n",
       "      <td>98.5</td>\n",
       "      <td>10</td>\n",
       "      <td>3005.666844</td>\n",
       "      <td>3005.67</td>\n",
       "      <td>649.91</td>\n",
       "      <td>0.0</td>\n",
       "      <td>Dec</td>\n",
       "      <td>11</td>\n",
       "      <td>12</td>\n",
       "      <td>Nov</td>\n",
       "      <td>1</td>\n",
       "    </tr>\n",
       "    <tr>\n",
       "      <th>3</th>\n",
       "      <td>10000</td>\n",
       "      <td>10000</td>\n",
       "      <td>10000.0</td>\n",
       "      <td>36 months</td>\n",
       "      <td>13.49</td>\n",
       "      <td>339.31</td>\n",
       "      <td>C</td>\n",
       "      <td>C1</td>\n",
       "      <td>10</td>\n",
       "      <td>RENT</td>\n",
       "      <td>49200.0</td>\n",
       "      <td>Source Verified</td>\n",
       "      <td>Fully Paid</td>\n",
       "      <td>other</td>\n",
       "      <td>917xx</td>\n",
       "      <td>CA</td>\n",
       "      <td>20.00</td>\n",
       "      <td>0</td>\n",
       "      <td>1</td>\n",
       "      <td>10</td>\n",
       "      <td>0</td>\n",
       "      <td>5598</td>\n",
       "      <td>21.0</td>\n",
       "      <td>37</td>\n",
       "      <td>12231.890000</td>\n",
       "      <td>12231.89</td>\n",
       "      <td>357.48</td>\n",
       "      <td>0.0</td>\n",
       "      <td>Dec</td>\n",
       "      <td>11</td>\n",
       "      <td>12</td>\n",
       "      <td>Feb</td>\n",
       "      <td>96</td>\n",
       "    </tr>\n",
       "    <tr>\n",
       "      <th>5</th>\n",
       "      <td>5000</td>\n",
       "      <td>5000</td>\n",
       "      <td>5000.0</td>\n",
       "      <td>36 months</td>\n",
       "      <td>7.90</td>\n",
       "      <td>156.46</td>\n",
       "      <td>A</td>\n",
       "      <td>A4</td>\n",
       "      <td>3</td>\n",
       "      <td>RENT</td>\n",
       "      <td>36000.0</td>\n",
       "      <td>Source Verified</td>\n",
       "      <td>Fully Paid</td>\n",
       "      <td>wedding</td>\n",
       "      <td>852xx</td>\n",
       "      <td>AZ</td>\n",
       "      <td>11.20</td>\n",
       "      <td>0</td>\n",
       "      <td>3</td>\n",
       "      <td>9</td>\n",
       "      <td>0</td>\n",
       "      <td>7963</td>\n",
       "      <td>28.3</td>\n",
       "      <td>12</td>\n",
       "      <td>5632.210000</td>\n",
       "      <td>5632.21</td>\n",
       "      <td>161.03</td>\n",
       "      <td>0.0</td>\n",
       "      <td>Dec</td>\n",
       "      <td>11</td>\n",
       "      <td>12</td>\n",
       "      <td>Nov</td>\n",
       "      <td>4</td>\n",
       "    </tr>\n",
       "  </tbody>\n",
       "</table>\n",
       "</div>"
      ],
      "text/plain": [
       "   loan_amnt  funded_amnt  funded_amnt_inv        term  int_rate  installment  \\\n",
       "0       5000         5000           4975.0   36 months     10.65       162.87   \n",
       "1       2500         2500           2500.0   60 months     15.27        59.83   \n",
       "2       2400         2400           2400.0   36 months     15.96        84.33   \n",
       "3      10000        10000          10000.0   36 months     13.49       339.31   \n",
       "5       5000         5000           5000.0   36 months      7.90       156.46   \n",
       "\n",
       "  grade sub_grade  emp_length home_ownership  annual_inc verification_status  \\\n",
       "0     B        B2          10           RENT     24000.0            Verified   \n",
       "1     C        C4           0           RENT     30000.0     Source Verified   \n",
       "2     C        C5          10           RENT     12252.0        Not Verified   \n",
       "3     C        C1          10           RENT     49200.0     Source Verified   \n",
       "5     A        A4           3           RENT     36000.0     Source Verified   \n",
       "\n",
       "   loan_status         purpose zip_code addr_state    dti  delinq_2yrs  \\\n",
       "0   Fully Paid     credit_card    860xx         AZ  27.65            0   \n",
       "1  Charged Off             car    309xx         GA   1.00            0   \n",
       "2   Fully Paid  small_business    606xx         IL   8.72            0   \n",
       "3   Fully Paid           other    917xx         CA  20.00            0   \n",
       "5   Fully Paid         wedding    852xx         AZ  11.20            0   \n",
       "\n",
       "   inq_last_6mths  open_acc  pub_rec  revol_bal  revol_util  total_acc  \\\n",
       "0               1         3        0      13648        83.7          9   \n",
       "1               5         3        0       1687         9.4          4   \n",
       "2               2         2        0       2956        98.5         10   \n",
       "3               1        10        0       5598        21.0         37   \n",
       "5               3         9        0       7963        28.3         12   \n",
       "\n",
       "    total_pymnt  total_pymnt_inv  last_pymnt_amnt  pub_rec_bankruptcies  \\\n",
       "0   5863.155187          5833.84           171.62                   0.0   \n",
       "1   1008.710000          1008.71           119.66                   0.0   \n",
       "2   3005.666844          3005.67           649.91                   0.0   \n",
       "3  12231.890000         12231.89           357.48                   0.0   \n",
       "5   5632.210000          5632.21           161.03                   0.0   \n",
       "\n",
       "  issue_id_month  issue_id_year  issue_id_month_number earliest_cr_line_month  \\\n",
       "0            Dec             11                     12                    Jan   \n",
       "1            Dec             11                     12                    Apr   \n",
       "2            Dec             11                     12                    Nov   \n",
       "3            Dec             11                     12                    Feb   \n",
       "5            Dec             11                     12                    Nov   \n",
       "\n",
       "   earliest_cr_line_year  \n",
       "0                     85  \n",
       "1                     99  \n",
       "2                      1  \n",
       "3                     96  \n",
       "5                      4  "
      ]
     },
     "execution_count": 61,
     "metadata": {},
     "output_type": "execute_result"
    }
   ],
   "source": [
    "pd.set_option('display.max_columns', None)\n",
    "loan_data.head()"
   ]
  },
  {
   "cell_type": "code",
   "execution_count": 62,
   "id": "9926223e",
   "metadata": {},
   "outputs": [
    {
     "data": {
      "text/plain": [
       "(34295, 33)"
      ]
     },
     "execution_count": 62,
     "metadata": {},
     "output_type": "execute_result"
    }
   ],
   "source": [
    "loan_data.shape"
   ]
  },
  {
   "cell_type": "markdown",
   "id": "3814fe17",
   "metadata": {},
   "source": [
    "3. ## Univariate Analysis"
   ]
  },
  {
   "cell_type": "markdown",
   "id": "75599811",
   "metadata": {},
   "source": [
    "First, let us conduct univariate analysis on unordered categorical variables"
   ]
  },
  {
   "cell_type": "markdown",
   "id": "c7654a21",
   "metadata": {},
   "source": [
    "Let us analyse home_ownership column"
   ]
  },
  {
   "cell_type": "code",
   "execution_count": 63,
   "id": "3f594271",
   "metadata": {},
   "outputs": [],
   "source": [
    "ua_ucv_home_ownership = loan_data.groupby(by=\"home_ownership\").size()"
   ]
  },
  {
   "cell_type": "code",
   "execution_count": 64,
   "id": "f7327355",
   "metadata": {},
   "outputs": [],
   "source": [
    "ua_ucv_home_ownership.sort_values(ascending=False,inplace=True)"
   ]
  },
  {
   "cell_type": "code",
   "execution_count": 65,
   "id": "28381778",
   "metadata": {},
   "outputs": [
    {
     "data": {
      "image/png": "[encoded data removed]",
      "text/plain": [
       "<Figure size 640x480 with 1 Axes>"
      ]
     },
     "metadata": {},
     "output_type": "display_data"
    }
   ],
   "source": [
    "plt.bar(ua_ucv_home_ownership.index,ua_ucv_home_ownership.values)\n",
    "plt.ylabel(\"Frequency\")\n",
    "plt.xlabel(\"home_ownership\")\n",
    "plt.show()"
   ]
  },
  {
   "cell_type": "markdown",
   "id": "bdab6333",
   "metadata": {},
   "source": [
    "From the above scatter plot, we can analyse the loan applicants are more for home_ownership of \"RENT\" and \"MORTGAGE\""
   ]
  },
  {
   "cell_type": "markdown",
   "id": "f4b218cb",
   "metadata": {},
   "source": [
    "Let the now analyse the another unordered categorical variable - purpose"
   ]
  },
  {
   "cell_type": "code",
   "execution_count": 66,
   "id": "ed457a37",
   "metadata": {},
   "outputs": [],
   "source": [
    "ua_ucv_purpose = loan_data.groupby(by=\"purpose\").size()"
   ]
  },
  {
   "cell_type": "code",
   "execution_count": 67,
   "id": "15bfffe8",
   "metadata": {},
   "outputs": [],
   "source": [
    "ua_ucv_purpose.sort_values(ascending=False,inplace=True)"
   ]
  },
  {
   "cell_type": "code",
   "execution_count": 68,
   "id": "4a54b5dd",
   "metadata": {},
   "outputs": [
    {
     "data": {
      "image/png": "[encoded data removed]",
      "text/plain": [
       "<Figure size 640x480 with 1 Axes>"
      ]
     },
     "metadata": {},
     "output_type": "display_data"
    }
   ],
   "source": [
    "plt.scatter(ua_ucv_purpose.index,np.log10(ua_ucv_purpose.values))\n",
    "plt.ylabel(\"Log 10 (Frequency)\")\n",
    "plt.xlabel(\"purpose\")\n",
    "plt.xticks(rotation=90)\n",
    "plt.show()"
   ]
  },
  {
   "cell_type": "markdown",
   "id": "ca9b81ed",
   "metadata": {},
   "source": [
    "We can see the \"purpose\" column follows \"power law distribution\".\n",
    "We can see the loan applicants are more for purpose \"debt_consolidation\" followed by \"credit_card\" and \"other\""
   ]
  },
  {
   "cell_type": "code",
   "execution_count": 69,
   "id": "6412d400",
   "metadata": {},
   "outputs": [],
   "source": [
    "ua_ucv_zip_code = loan_data.groupby(by=\"zip_code\").size()"
   ]
  },
  {
   "cell_type": "code",
   "execution_count": 70,
   "id": "a80a9a21",
   "metadata": {},
   "outputs": [],
   "source": [
    "ua_ucv_zip_code.sort_values(ascending=False,inplace=True)"
   ]
  },
  {
   "cell_type": "code",
   "execution_count": 71,
   "id": "a346c2fd",
   "metadata": {},
   "outputs": [
    {
     "data": {
      "image/png": "[encoded data removed]",
      "text/plain": [
       "<Figure size 640x480 with 1 Axes>"
      ]
     },
     "metadata": {},
     "output_type": "display_data"
    }
   ],
   "source": [
    "plt.scatter(ua_ucv_zip_code.index,np.log10(ua_ucv_zip_code.values))\n",
    "plt.ylabel(\"Log 10 (Frequency)\")\n",
    "plt.xlabel(\"zip_code\")\n",
    "\n",
    "plt.show()"
   ]
  },
  {
   "cell_type": "markdown",
   "id": "70895ba1",
   "metadata": {},
   "source": [
    "The above plot says zip_code also follows \"power law distribution\".\n",
    "Let us plot it by not considering the minimum frequency ones."
   ]
  },
  {
   "cell_type": "code",
   "execution_count": 72,
   "id": "9c4710c9",
   "metadata": {},
   "outputs": [
    {
     "data": {
      "image/png": "[encoded data removed]",
      "text/plain": [
       "<Figure size 640x480 with 1 Axes>"
      ]
     },
     "metadata": {},
     "output_type": "display_data"
    }
   ],
   "source": [
    "ua_ucv_zip_code = ua_ucv_zip_code[ua_ucv_zip_code>200]\n",
    "ua_ucv_zip_code.sort_values(ascending=False,inplace=True)\n",
    "plt.scatter(ua_ucv_zip_code.index,np.log10(ua_ucv_zip_code.values))\n",
    "plt.ylabel(\"Log 10 (Frequency)\")\n",
    "plt.xlabel(\"zip_code\")\n",
    "plt.xticks(rotation=90)\n",
    "plt.show()"
   ]
  },
  {
   "cell_type": "markdown",
   "id": "32e97272",
   "metadata": {},
   "source": [
    "From the above graph we can conclude, the loan applicants are high from zip_code starting with 100,945,112 and 606."
   ]
  },
  {
   "cell_type": "code",
   "execution_count": 73,
   "id": "cddbb712",
   "metadata": {},
   "outputs": [
    {
     "data": {
      "image/png": "[encoded data removed]",
      "text/plain": [
       "<Figure size 640x480 with 1 Axes>"
      ]
     },
     "metadata": {},
     "output_type": "display_data"
    }
   ],
   "source": [
    "ua_ucv_addr_state = loan_data.groupby(by=\"addr_state\").size()\n",
    "ua_ucv_addr_state.sort_values(ascending=False,inplace=True)\n",
    "plt.scatter(ua_ucv_addr_state.index,np.log10(ua_ucv_addr_state.values))\n",
    "plt.ylabel(\"Frequency\")\n",
    "plt.xlabel(\"addr_state\")\n",
    "plt.xticks(rotation=90)\n",
    "plt.show()"
   ]
  },
  {
   "cell_type": "markdown",
   "id": "c8ce31b2",
   "metadata": {},
   "source": [
    "We can see the \"addr_state\" column follows \"power law distribution\".\n",
    "We can see the loan applicants are more for addr_state \"CA\" followed by \"NY\" and \"FL\""
   ]
  },
  {
   "cell_type": "markdown",
   "id": "0c7030d8",
   "metadata": {},
   "source": [
    "let us conduct univariate analysis on ordered categorical variables"
   ]
  },
  {
   "cell_type": "code",
   "execution_count": 74,
   "id": "1e8dfa7f",
   "metadata": {},
   "outputs": [
    {
     "data": {
      "image/png": "[encoded data removed]",
      "text/plain": [
       "<Figure size 640x480 with 1 Axes>"
      ]
     },
     "metadata": {},
     "output_type": "display_data"
    }
   ],
   "source": [
    "ua_ocv_grade = loan_data.groupby(by=\"grade\").size()\n",
    "plt.bar(ua_ocv_grade.index,ua_ocv_grade.values)\n",
    "plt.ylabel(\"Frequency\")\n",
    "plt.xlabel(\"grade\")\n",
    "plt.show()"
   ]
  },
  {
   "cell_type": "markdown",
   "id": "858df0f0",
   "metadata": {},
   "source": [
    "From the above plot, we can conclude most of the loan applicants are of grades A and B.\n",
    "Also, there are very few applicants with grade G.\n",
    "Also we can observe as the grade increases, the frequency of loan applicants decreasing."
   ]
  },
  {
   "cell_type": "code",
   "execution_count": 75,
   "id": "93c94fa5",
   "metadata": {},
   "outputs": [
    {
     "data": {
      "image/png": "[encoded data removed]",
      "text/plain": [
       "<Figure size 640x480 with 1 Axes>"
      ]
     },
     "metadata": {},
     "output_type": "display_data"
    }
   ],
   "source": [
    "ua_ocv_sub_grade = loan_data.groupby(by=\"sub_grade\").size()\n",
    "plt.bar(ua_ocv_sub_grade.index,ua_ocv_sub_grade.values)\n",
    "plt.ylabel(\"Frequency\")\n",
    "plt.xlabel(\"sub_grade\")\n",
    "plt.xticks(rotation=90)\n",
    "plt.show()"
   ]
  },
  {
   "cell_type": "markdown",
   "id": "a4684d53",
   "metadata": {},
   "source": [
    "From the above plot, we can conclude most of the loan applicants are of sub_grades belonging to A and B.\n",
    "Also, there are very few applicants with sub_grade belonging to G."
   ]
  },
  {
   "cell_type": "code",
   "execution_count": 76,
   "id": "cb77d8f1",
   "metadata": {},
   "outputs": [
    {
     "data": {
      "image/png": "[encoded data removed]",
      "text/plain": [
       "<Figure size 640x480 with 1 Axes>"
      ]
     },
     "metadata": {},
     "output_type": "display_data"
    }
   ],
   "source": [
    "ua_ocv_emp_length = loan_data.groupby(by=\"emp_length\").size()\n",
    "ua_ocv_emp_length.sort_index()\n",
    "plt.bar(ua_ocv_emp_length.index,ua_ocv_emp_length.values)\n",
    "plt.ylabel(\"Frequency\")\n",
    "plt.xlabel(\"emp_length\")\n",
    "plt.show()"
   ]
  },
  {
   "cell_type": "markdown",
   "id": "1049ad18",
   "metadata": {},
   "source": [
    "From the above plot, we can see the loan applicants are more for 10+ years of emp_length. "
   ]
  },
  {
   "cell_type": "code",
   "execution_count": 77,
   "id": "e68da781",
   "metadata": {},
   "outputs": [
    {
     "data": {
      "text/plain": [
       "[]"
      ]
     },
     "execution_count": 77,
     "metadata": {},
     "output_type": "execute_result"
    },
    {
     "data": {
      "image/png": "[encoded data removed]",
      "text/plain": [
       "<Figure size 640x480 with 1 Axes>"
      ]
     },
     "metadata": {},
     "output_type": "display_data"
    }
   ],
   "source": [
    "ua_ocv_issue_d = loan_data.groupby(by=['issue_id_year',\"issue_id_month_number\"]).size()\n",
    "ax=ua_ocv_issue_d.plot.bar()\n",
    "ax.set_xticklabels([f\"{x}/{y}\" for x,y in ua_ocv_issue_d.index.tolist()])\n",
    "ax.plot()"
   ]
  },
  {
   "cell_type": "markdown",
   "id": "da8ce157",
   "metadata": {},
   "source": [
    "From the above plot, we can see the number of loan applications has been increasing over the time."
   ]
  },
  {
   "cell_type": "markdown",
   "id": "ebd174dd",
   "metadata": {},
   "source": [
    "let us conduct univariate analysis on quantitative variables"
   ]
  },
  {
   "cell_type": "markdown",
   "id": "5e0e0c47",
   "metadata": {},
   "source": [
    "Let us analyse \"loan_amnt\""
   ]
  },
  {
   "cell_type": "code",
   "execution_count": 78,
   "id": "81230f32",
   "metadata": {},
   "outputs": [
    {
     "data": {
      "image/png": "[encoded data removed]",
      "text/plain": [
       "<Figure size 640x480 with 1 Axes>"
      ]
     },
     "metadata": {},
     "output_type": "display_data"
    }
   ],
   "source": [
    "plt.boxplot(loan_data.loan_amnt)\n",
    "plt.show()"
   ]
  },
  {
   "cell_type": "markdown",
   "id": "3581f904",
   "metadata": {},
   "source": [
    "From the above graph, we can see the the loan_amnt is spread widely from 50th percentile to 100th percentile."
   ]
  },
  {
   "cell_type": "code",
   "execution_count": 79,
   "id": "391de233",
   "metadata": {},
   "outputs": [
    {
     "data": {
      "text/plain": [
       "count    34295.000000\n",
       "mean     10273.626622\n",
       "std       6276.333232\n",
       "min        500.000000\n",
       "25%       5000.000000\n",
       "50%       9000.000000\n",
       "75%      14400.000000\n",
       "max      29900.000000\n",
       "Name: loan_amnt, dtype: float64"
      ]
     },
     "execution_count": 79,
     "metadata": {},
     "output_type": "execute_result"
    }
   ],
   "source": [
    "loan_data.loan_amnt.describe()"
   ]
  },
  {
   "cell_type": "markdown",
   "id": "511366cc",
   "metadata": {},
   "source": [
    "Let us now analyse \"int_rate\"."
   ]
  },
  {
   "cell_type": "code",
   "execution_count": 80,
   "id": "9c6d7a70",
   "metadata": {},
   "outputs": [
    {
     "data": {
      "image/png": "[encoded data removed]",
      "text/plain": [
       "<Figure size 640x480 with 1 Axes>"
      ]
     },
     "metadata": {},
     "output_type": "display_data"
    }
   ],
   "source": [
    "plt.boxplot(loan_data.int_rate)\n",
    "plt.show()"
   ]
  },
  {
   "cell_type": "markdown",
   "id": "94cd7b62",
   "metadata": {},
   "source": [
    "From the above graph, we can see the the int_rate is spread widely from 50th percentile to 100th percentile. Let us describe it."
   ]
  },
  {
   "cell_type": "code",
   "execution_count": 81,
   "id": "80d5bfa9",
   "metadata": {},
   "outputs": [
    {
     "data": {
      "text/plain": [
       "count    34295.000000\n",
       "mean        11.836186\n",
       "std          3.603375\n",
       "min          5.420000\n",
       "25%          8.900000\n",
       "50%         11.710000\n",
       "75%         14.270000\n",
       "max         22.480000\n",
       "Name: int_rate, dtype: float64"
      ]
     },
     "execution_count": 81,
     "metadata": {},
     "output_type": "execute_result"
    }
   ],
   "source": [
    "loan_data.int_rate.describe()"
   ]
  },
  {
   "cell_type": "markdown",
   "id": "6f4efa8c",
   "metadata": {},
   "source": [
    "The average int_rate given to the applicants is 11.83%"
   ]
  },
  {
   "cell_type": "code",
   "execution_count": 82,
   "id": "a0dab827",
   "metadata": {},
   "outputs": [
    {
     "data": {
      "image/png": "[encoded data removed]",
      "text/plain": [
       "<Figure size 640x480 with 1 Axes>"
      ]
     },
     "metadata": {},
     "output_type": "display_data"
    }
   ],
   "source": [
    "plt.boxplot(loan_data.annual_inc)\n",
    "plt.show()"
   ]
  },
  {
   "cell_type": "markdown",
   "id": "cd600114",
   "metadata": {},
   "source": [
    "From the above graph, we can see the the annual_inc is spread widely from 50th percentile to 100th percentile. Let us describe it."
   ]
  },
  {
   "cell_type": "code",
   "execution_count": 83,
   "id": "2efe356d",
   "metadata": {},
   "outputs": [
    {
     "data": {
      "text/plain": [
       "count     34295.000000\n",
       "mean      61186.056529\n",
       "std       27911.822309\n",
       "min        4000.000000\n",
       "25%       40000.000000\n",
       "50%       56000.000000\n",
       "75%       77290.000000\n",
       "max      149981.000000\n",
       "Name: annual_inc, dtype: float64"
      ]
     },
     "execution_count": 83,
     "metadata": {},
     "output_type": "execute_result"
    }
   ],
   "source": [
    "loan_data.annual_inc.describe()"
   ]
  },
  {
   "cell_type": "markdown",
   "id": "36c2d9e2",
   "metadata": {},
   "source": [
    "Segmented univariate analysis"
   ]
  },
  {
   "cell_type": "markdown",
   "id": "2b5a6fb6",
   "metadata": {},
   "source": [
    "Let us check how int_rate is distributed on \"purpose\""
   ]
  },
  {
   "cell_type": "code",
   "execution_count": 84,
   "id": "5d5595f7",
   "metadata": {},
   "outputs": [
    {
     "data": {
      "text/plain": [
       "purpose\n",
       "car                   10.532950\n",
       "credit_card           11.543101\n",
       "debt_consolidation    12.251379\n",
       "educational           11.770351\n",
       "home_improvement      11.086742\n",
       "house                 12.205016\n",
       "major_purchase        10.770062\n",
       "medical               11.520948\n",
       "moving                11.534477\n",
       "other                 11.680379\n",
       "renewable_energy      11.221529\n",
       "small_business        12.849563\n",
       "vacation              10.874277\n",
       "wedding               11.757153\n",
       "Name: int_rate, dtype: float64"
      ]
     },
     "execution_count": 84,
     "metadata": {},
     "output_type": "execute_result"
    }
   ],
   "source": [
    "loan_data.groupby(by=\"purpose\")[\"int_rate\"].mean()"
   ]
  },
  {
   "cell_type": "markdown",
   "id": "1cb147b2",
   "metadata": {},
   "source": [
    "As we can see, interest rate is high for purposes of debt_consolidation,house,small_business and low for car,vacation,major_purchase."
   ]
  },
  {
   "cell_type": "markdown",
   "id": "64fe9145",
   "metadata": {},
   "source": [
    "Let us check how loan_amnt is distributed on \"purpose\"."
   ]
  },
  {
   "cell_type": "code",
   "execution_count": 85,
   "id": "37980b5a",
   "metadata": {},
   "outputs": [
    {
     "data": {
      "text/plain": [
       "purpose\n",
       "car                    6683.039568\n",
       "credit_card           10938.305914\n",
       "debt_consolidation    11677.046197\n",
       "educational            6594.473684\n",
       "home_improvement       9894.266247\n",
       "house                 11158.576052\n",
       "major_purchase         7578.431877\n",
       "medical                7641.094771\n",
       "moving                 6031.734496\n",
       "other                  7455.998532\n",
       "renewable_energy       7941.764706\n",
       "small_business        11739.439508\n",
       "vacation               5410.466867\n",
       "wedding                9377.275379\n",
       "Name: loan_amnt, dtype: float64"
      ]
     },
     "execution_count": 85,
     "metadata": {},
     "output_type": "execute_result"
    }
   ],
   "source": [
    "loan_data.groupby(by=\"purpose\")[\"loan_amnt\"].mean()"
   ]
  },
  {
   "cell_type": "markdown",
   "id": "0f226b48",
   "metadata": {},
   "source": [
    "As we can see, loan_amnt is high for purposes of debt_consolidation,house,small_business."
   ]
  },
  {
   "cell_type": "code",
   "execution_count": null,
   "id": "e48edaa8",
   "metadata": {},
   "outputs": [],
   "source": []
  }
 ],
 "metadata": {
  "kernelspec": {
   "display_name": "Python 3 (ipykernel)",
   "language": "python",
   "name": "python3"
  },
  "language_info": {
   "codemirror_mode": {
    "name": "ipython",
    "version": 3
   },
   "file_extension": ".py",
   "mimetype": "text/x-python",
   "name": "python",
   "nbconvert_exporter": "python",
   "pygments_lexer": "ipython3",
   "version": "3.9.13"
  }
 },
 "nbformat": 4,
 "nbformat_minor": 5
}
